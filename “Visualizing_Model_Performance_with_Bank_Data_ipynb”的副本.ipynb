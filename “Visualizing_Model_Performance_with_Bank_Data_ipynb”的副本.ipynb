{
  "cells": [
    {
      "cell_type": "markdown",
      "metadata": {
        "id": "view-in-github",
        "colab_type": "text"
      },
      "source": [
        "<a href=\"https://colab.research.google.com/github/zychen1017/Other/blob/main/%E2%80%9CVisualizing_Model_Performance_with_Bank_Data_ipynb%E2%80%9D%E7%9A%84%E5%89%AF%E6%9C%AC.ipynb\" target=\"_parent\"><img src=\"https://colab.research.google.com/assets/colab-badge.svg\" alt=\"Open In Colab\"/></a>"
      ]
    },
    {
      "metadata": {
        "_uuid": "fe6de28443d73e5a661b04d1f44d36c64a02617e",
        "id": "ElhdXcbFw3lU"
      },
      "cell_type": "markdown",
      "source": [
        "##  Bank Marketing\n",
        "\n",
        "**Abstract:**\n",
        "The data is related with direct marketing campaigns (phone calls) of a Portuguese banking institution. The classification goal is to predict if the client will subscribe to a term deposit (variable y).\n",
        "\n",
        "**Data Set Information:**\n",
        "The data is related with direct marketing campaigns of a Portuguese banking institution. The marketing campaigns were based on phone calls. Often, more than one contact to the same client was required, in order to assess if the product (bank term deposit) would be ('yes') or not ('no') subscribed.\n",
        "\n",
        "###  Attribute Information:\n",
        "\n",
        "####  Bank client data:\n",
        "\n",
        " - Age (numeric)\n",
        " - Job : type of job (categorical: 'admin.', 'blue-collar', 'entrepreneur', 'housemaid', 'management', 'retired', 'self-employed', 'services', 'student', 'technician', 'unemployed', 'unknown')\n",
        " - Marital : marital status (categorical: 'divorced', 'married', 'single', 'unknown' ; note: 'divorced' means divorced or widowed)\n",
        " - Education (categorical: 'basic.4y', 'basic.6y', 'basic.9y', 'high.school',  'illiterate', 'professional.course', 'university.degree', 'unknown')\n",
        " - Default: has credit in default? (categorical: 'no', 'yes', 'unknown')\n",
        " - Housing: has housing loan? (categorical: 'no', 'yes', 'unknown')\n",
        " - Loan: has personal loan? (categorical: 'no', 'yes', 'unknown')\n",
        "\n",
        "    \n",
        "####  Related with the last contact of the current campaign:\n",
        "\n",
        " - Contact: contact communication type (categorical:\n",
        "   'cellular','telephone')\n",
        " - Month: last contact month of year (categorical: 'jan', 'feb', 'mar',\n",
        "   ..., 'nov', 'dec')\n",
        " - Duration: last contact duration, in seconds (numeric). Important\n",
        "   note: this attribute highly affects the output target (e.g., if\n",
        "   duration=0 then y='no'). Yet, the duration is not known before a call\n",
        "   is performed. Also, after the end of the call y is obviously known.\n",
        "   Thus, this input should only be included for benchmark purposes and\n",
        "   should be discarded if the intention is to have a realistic\n",
        "   predictive model.\n",
        "\n",
        "    \n",
        "####  Other attributes:\n",
        "\n",
        " - Campaign: number of contacts performed during this campaign and for\n",
        "   this client (numeric, includes last contact)\n",
        " - Pdays: number of days that passed by after the client was last\n",
        "   contacted from a previous campaign (numeric; 999 means client was not\n",
        "   previously contacted)\n",
        " - Previous: number of contacts performed before this campaign and for\n",
        "   this client (numeric)\n",
        " - Poutcome: outcome of the previous marketing campaign (categorical:\n",
        "   'failure','nonexistent','success')\n",
        "\n",
        "####  Output variable (desired target):\n",
        "\n",
        " - y - has the client subscribed a term deposit? (binary: 'yes', 'no')\n",
        "\n",
        "     \n",
        "###  Source:\n",
        "\n",
        " - Dataset from : http://archive.ics.uci.edu/ml/datasets/Bank+Marketing#\n"
      ]
    },
    {
      "cell_type": "markdown",
      "source": [
        "### Import the necessary libraries"
      ],
      "metadata": {
        "id": "3Bm5fGOftlHi"
      }
    },
    {
      "metadata": {
        "trusted": true,
        "_uuid": "372130a7748d97a42267ae256ffd4378711bec05",
        "id": "w-9BLvHgw3lg"
      },
      "cell_type": "code",
      "source": [
        "import pandas as pd\n",
        "import numpy as np\n",
        "import matplotlib.pyplot as plt\n",
        "import seaborn as sns\n",
        "\n",
        "#to scale the data using z-score\n",
        "from sklearn.preprocessing import StandardScaler\n",
        "\n",
        "from sklearn.model_selection import train_test_split\n",
        "\n",
        "#algorithms to use\n",
        "from sklearn.linear_model import LogisticRegression\n",
        "\n",
        "#Metrics to evaluate the model\n",
        "from sklearn.metrics import confusion_matrix, classification_report, precision_recall_curve\n",
        "\n",
        "#to ignore warnings\n",
        "import warnings\n",
        "warnings.filterwarnings(\"ignore\")"
      ],
      "execution_count": null,
      "outputs": []
    },
    {
      "cell_type": "markdown",
      "source": [
        "### Read in the data set using the code:\n",
        "```\n",
        "#reading the dataset\n",
        "import pandas as pd\n",
        "import requests\n",
        "from io import StringIO  \n",
        "\n",
        "orig_url=\"-----\" # copy and paste a Goodle drive share link to the data\n",
        "file_id = orig_url.split('/')[-2]\n",
        "dwn_url='https://drive.google.com/uc?export=download&id=' + file_id\n",
        "url = requests.get(dwn_url).text\n",
        "\n",
        "csv_raw = StringIO(url)\n",
        "bank = pd.read_csv(csv_raw, sep=';') # the sep argument indicates how the data values are separated\n",
        "```"
      ],
      "metadata": {
        "id": "vy1V2rokuPC2"
      }
    },
    {
      "metadata": {
        "trusted": true,
        "_uuid": "476968e09908fbbd437a6a5bcdd51ccb468b412f",
        "id": "MnOdX4CZw3lk"
      },
      "cell_type": "code",
      "source": [
        "#reading the dataset\n",
        "import pandas as pd\n",
        "import requests\n",
        "from io import StringIO\n",
        "\n",
        "orig_url=\"https://drive.google.com/file/d/1IZQz-1sZtD7R2VVe_JuhWRf5vAMa-B2E/view?usp=sharing\"\n",
        "file_id = orig_url.split('/')[-2]\n",
        "dwn_url='https://drive.google.com/uc?export=download&id=' + file_id\n",
        "url = requests.get(dwn_url).text\n",
        "\n",
        "csv_raw = StringIO(url)\n",
        "bank = pd.read_csv(csv_raw, sep=';') # the sep argument indicates how the data values are separated"
      ],
      "execution_count": null,
      "outputs": []
    },
    {
      "cell_type": "markdown",
      "source": [
        "### Examine the first few lines of the data set using the method\n",
        "\n",
        "```data_frame.head()```"
      ],
      "metadata": {
        "id": "wzUWzugAe-VM"
      }
    },
    {
      "cell_type": "code",
      "source": [
        "bank.head()"
      ],
      "metadata": {
        "colab": {
          "base_uri": "https://localhost:8080/",
          "height": 206
        },
        "id": "Rb5ACH5QfB_b",
        "outputId": "8ac27c5f-75ec-4755-b9ad-a528885b5705"
      },
      "execution_count": null,
      "outputs": [
        {
          "output_type": "execute_result",
          "data": {
            "text/plain": [
              "   age           job  marital  education default  balance housing loan  \\\n",
              "0   58    management  married   tertiary      no     2143     yes   no   \n",
              "1   44    technician   single  secondary      no       29     yes   no   \n",
              "2   33  entrepreneur  married  secondary      no        2     yes  yes   \n",
              "3   47   blue-collar  married    unknown      no     1506     yes   no   \n",
              "4   33       unknown   single    unknown      no        1      no   no   \n",
              "\n",
              "   contact  day month  duration  campaign  pdays  previous poutcome   y  \n",
              "0  unknown    5   may       261         1     -1         0  unknown  no  \n",
              "1  unknown    5   may       151         1     -1         0  unknown  no  \n",
              "2  unknown    5   may        76         1     -1         0  unknown  no  \n",
              "3  unknown    5   may        92         1     -1         0  unknown  no  \n",
              "4  unknown    5   may       198         1     -1         0  unknown  no  "
            ],
            "text/html": [
              "\n",
              "  <div id=\"df-2351911f-9db4-4b59-a0fe-4da91f98950b\">\n",
              "    <div class=\"colab-df-container\">\n",
              "      <div>\n",
              "<style scoped>\n",
              "    .dataframe tbody tr th:only-of-type {\n",
              "        vertical-align: middle;\n",
              "    }\n",
              "\n",
              "    .dataframe tbody tr th {\n",
              "        vertical-align: top;\n",
              "    }\n",
              "\n",
              "    .dataframe thead th {\n",
              "        text-align: right;\n",
              "    }\n",
              "</style>\n",
              "<table border=\"1\" class=\"dataframe\">\n",
              "  <thead>\n",
              "    <tr style=\"text-align: right;\">\n",
              "      <th></th>\n",
              "      <th>age</th>\n",
              "      <th>job</th>\n",
              "      <th>marital</th>\n",
              "      <th>education</th>\n",
              "      <th>default</th>\n",
              "      <th>balance</th>\n",
              "      <th>housing</th>\n",
              "      <th>loan</th>\n",
              "      <th>contact</th>\n",
              "      <th>day</th>\n",
              "      <th>month</th>\n",
              "      <th>duration</th>\n",
              "      <th>campaign</th>\n",
              "      <th>pdays</th>\n",
              "      <th>previous</th>\n",
              "      <th>poutcome</th>\n",
              "      <th>y</th>\n",
              "    </tr>\n",
              "  </thead>\n",
              "  <tbody>\n",
              "    <tr>\n",
              "      <th>0</th>\n",
              "      <td>58</td>\n",
              "      <td>management</td>\n",
              "      <td>married</td>\n",
              "      <td>tertiary</td>\n",
              "      <td>no</td>\n",
              "      <td>2143</td>\n",
              "      <td>yes</td>\n",
              "      <td>no</td>\n",
              "      <td>unknown</td>\n",
              "      <td>5</td>\n",
              "      <td>may</td>\n",
              "      <td>261</td>\n",
              "      <td>1</td>\n",
              "      <td>-1</td>\n",
              "      <td>0</td>\n",
              "      <td>unknown</td>\n",
              "      <td>no</td>\n",
              "    </tr>\n",
              "    <tr>\n",
              "      <th>1</th>\n",
              "      <td>44</td>\n",
              "      <td>technician</td>\n",
              "      <td>single</td>\n",
              "      <td>secondary</td>\n",
              "      <td>no</td>\n",
              "      <td>29</td>\n",
              "      <td>yes</td>\n",
              "      <td>no</td>\n",
              "      <td>unknown</td>\n",
              "      <td>5</td>\n",
              "      <td>may</td>\n",
              "      <td>151</td>\n",
              "      <td>1</td>\n",
              "      <td>-1</td>\n",
              "      <td>0</td>\n",
              "      <td>unknown</td>\n",
              "      <td>no</td>\n",
              "    </tr>\n",
              "    <tr>\n",
              "      <th>2</th>\n",
              "      <td>33</td>\n",
              "      <td>entrepreneur</td>\n",
              "      <td>married</td>\n",
              "      <td>secondary</td>\n",
              "      <td>no</td>\n",
              "      <td>2</td>\n",
              "      <td>yes</td>\n",
              "      <td>yes</td>\n",
              "      <td>unknown</td>\n",
              "      <td>5</td>\n",
              "      <td>may</td>\n",
              "      <td>76</td>\n",
              "      <td>1</td>\n",
              "      <td>-1</td>\n",
              "      <td>0</td>\n",
              "      <td>unknown</td>\n",
              "      <td>no</td>\n",
              "    </tr>\n",
              "    <tr>\n",
              "      <th>3</th>\n",
              "      <td>47</td>\n",
              "      <td>blue-collar</td>\n",
              "      <td>married</td>\n",
              "      <td>unknown</td>\n",
              "      <td>no</td>\n",
              "      <td>1506</td>\n",
              "      <td>yes</td>\n",
              "      <td>no</td>\n",
              "      <td>unknown</td>\n",
              "      <td>5</td>\n",
              "      <td>may</td>\n",
              "      <td>92</td>\n",
              "      <td>1</td>\n",
              "      <td>-1</td>\n",
              "      <td>0</td>\n",
              "      <td>unknown</td>\n",
              "      <td>no</td>\n",
              "    </tr>\n",
              "    <tr>\n",
              "      <th>4</th>\n",
              "      <td>33</td>\n",
              "      <td>unknown</td>\n",
              "      <td>single</td>\n",
              "      <td>unknown</td>\n",
              "      <td>no</td>\n",
              "      <td>1</td>\n",
              "      <td>no</td>\n",
              "      <td>no</td>\n",
              "      <td>unknown</td>\n",
              "      <td>5</td>\n",
              "      <td>may</td>\n",
              "      <td>198</td>\n",
              "      <td>1</td>\n",
              "      <td>-1</td>\n",
              "      <td>0</td>\n",
              "      <td>unknown</td>\n",
              "      <td>no</td>\n",
              "    </tr>\n",
              "  </tbody>\n",
              "</table>\n",
              "</div>\n",
              "      <button class=\"colab-df-convert\" onclick=\"convertToInteractive('df-2351911f-9db4-4b59-a0fe-4da91f98950b')\"\n",
              "              title=\"Convert this dataframe to an interactive table.\"\n",
              "              style=\"display:none;\">\n",
              "        \n",
              "  <svg xmlns=\"http://www.w3.org/2000/svg\" height=\"24px\"viewBox=\"0 0 24 24\"\n",
              "       width=\"24px\">\n",
              "    <path d=\"M0 0h24v24H0V0z\" fill=\"none\"/>\n",
              "    <path d=\"M18.56 5.44l.94 2.06.94-2.06 2.06-.94-2.06-.94-.94-2.06-.94 2.06-2.06.94zm-11 1L8.5 8.5l.94-2.06 2.06-.94-2.06-.94L8.5 2.5l-.94 2.06-2.06.94zm10 10l.94 2.06.94-2.06 2.06-.94-2.06-.94-.94-2.06-.94 2.06-2.06.94z\"/><path d=\"M17.41 7.96l-1.37-1.37c-.4-.4-.92-.59-1.43-.59-.52 0-1.04.2-1.43.59L10.3 9.45l-7.72 7.72c-.78.78-.78 2.05 0 2.83L4 21.41c.39.39.9.59 1.41.59.51 0 1.02-.2 1.41-.59l7.78-7.78 2.81-2.81c.8-.78.8-2.07 0-2.86zM5.41 20L4 18.59l7.72-7.72 1.47 1.35L5.41 20z\"/>\n",
              "  </svg>\n",
              "      </button>\n",
              "      \n",
              "  <style>\n",
              "    .colab-df-container {\n",
              "      display:flex;\n",
              "      flex-wrap:wrap;\n",
              "      gap: 12px;\n",
              "    }\n",
              "\n",
              "    .colab-df-convert {\n",
              "      background-color: #E8F0FE;\n",
              "      border: none;\n",
              "      border-radius: 50%;\n",
              "      cursor: pointer;\n",
              "      display: none;\n",
              "      fill: #1967D2;\n",
              "      height: 32px;\n",
              "      padding: 0 0 0 0;\n",
              "      width: 32px;\n",
              "    }\n",
              "\n",
              "    .colab-df-convert:hover {\n",
              "      background-color: #E2EBFA;\n",
              "      box-shadow: 0px 1px 2px rgba(60, 64, 67, 0.3), 0px 1px 3px 1px rgba(60, 64, 67, 0.15);\n",
              "      fill: #174EA6;\n",
              "    }\n",
              "\n",
              "    [theme=dark] .colab-df-convert {\n",
              "      background-color: #3B4455;\n",
              "      fill: #D2E3FC;\n",
              "    }\n",
              "\n",
              "    [theme=dark] .colab-df-convert:hover {\n",
              "      background-color: #434B5C;\n",
              "      box-shadow: 0px 1px 3px 1px rgba(0, 0, 0, 0.15);\n",
              "      filter: drop-shadow(0px 1px 2px rgba(0, 0, 0, 0.3));\n",
              "      fill: #FFFFFF;\n",
              "    }\n",
              "  </style>\n",
              "\n",
              "      <script>\n",
              "        const buttonEl =\n",
              "          document.querySelector('#df-2351911f-9db4-4b59-a0fe-4da91f98950b button.colab-df-convert');\n",
              "        buttonEl.style.display =\n",
              "          google.colab.kernel.accessAllowed ? 'block' : 'none';\n",
              "\n",
              "        async function convertToInteractive(key) {\n",
              "          const element = document.querySelector('#df-2351911f-9db4-4b59-a0fe-4da91f98950b');\n",
              "          const dataTable =\n",
              "            await google.colab.kernel.invokeFunction('convertToInteractive',\n",
              "                                                     [key], {});\n",
              "          if (!dataTable) return;\n",
              "\n",
              "          const docLinkHtml = 'Like what you see? Visit the ' +\n",
              "            '<a target=\"_blank\" href=https://colab.research.google.com/notebooks/data_table.ipynb>data table notebook</a>'\n",
              "            + ' to learn more about interactive tables.';\n",
              "          element.innerHTML = '';\n",
              "          dataTable['output_type'] = 'display_data';\n",
              "          await google.colab.output.renderOutput(dataTable, element);\n",
              "          const docLink = document.createElement('div');\n",
              "          docLink.innerHTML = docLinkHtml;\n",
              "          element.appendChild(docLink);\n",
              "        }\n",
              "      </script>\n",
              "    </div>\n",
              "  </div>\n",
              "  "
            ]
          },
          "metadata": {},
          "execution_count": 3
        }
      ]
    },
    {
      "cell_type": "markdown",
      "source": [
        "### Examine the data information using the method\n",
        "```data_frame.info()```"
      ],
      "metadata": {
        "id": "HgXbEBMlfgsf"
      }
    },
    {
      "metadata": {
        "trusted": true,
        "_uuid": "6c94a0ee7836e2f33cc5df32a1d771bffe3fc8d6",
        "id": "4GPTyeTsw3lm",
        "outputId": "ae53e849-556b-4e0e-b3e1-21aa278a1d92",
        "colab": {
          "base_uri": "https://localhost:8080/"
        }
      },
      "cell_type": "code",
      "source": [
        "# take a look at the type, number of columns, entries, null values etc..\n",
        "bank.info()\n"
      ],
      "execution_count": null,
      "outputs": [
        {
          "output_type": "stream",
          "name": "stdout",
          "text": [
            "<class 'pandas.core.frame.DataFrame'>\n",
            "RangeIndex: 45211 entries, 0 to 45210\n",
            "Data columns (total 17 columns):\n",
            " #   Column     Non-Null Count  Dtype \n",
            "---  ------     --------------  ----- \n",
            " 0   age        45211 non-null  int64 \n",
            " 1   job        45211 non-null  object\n",
            " 2   marital    45211 non-null  object\n",
            " 3   education  45211 non-null  object\n",
            " 4   default    45211 non-null  object\n",
            " 5   balance    45211 non-null  int64 \n",
            " 6   housing    45211 non-null  object\n",
            " 7   loan       45211 non-null  object\n",
            " 8   contact    45211 non-null  object\n",
            " 9   day        45211 non-null  int64 \n",
            " 10  month      45211 non-null  object\n",
            " 11  duration   45211 non-null  int64 \n",
            " 12  campaign   45211 non-null  int64 \n",
            " 13  pdays      45211 non-null  int64 \n",
            " 14  previous   45211 non-null  int64 \n",
            " 15  poutcome   45211 non-null  object\n",
            " 16  y          45211 non-null  object\n",
            "dtypes: int64(7), object(10)\n",
            "memory usage: 5.9+ MB\n"
          ]
        }
      ]
    },
    {
      "cell_type": "markdown",
      "source": [
        "### Check for missing values using the method\n",
        "```data_frame.isnull().any()```"
      ],
      "metadata": {
        "id": "B4R8Axffk6hy"
      }
    },
    {
      "cell_type": "code",
      "source": [
        "bank.isnull().any() # one way to search for null values"
      ],
      "metadata": {
        "colab": {
          "base_uri": "https://localhost:8080/"
        },
        "id": "IDokpA0pk_Ox",
        "outputId": "cbb39847-ba26-4e75-e0ef-f54c510c8326"
      },
      "execution_count": null,
      "outputs": [
        {
          "output_type": "execute_result",
          "data": {
            "text/plain": [
              "age          False\n",
              "job          False\n",
              "marital      False\n",
              "education    False\n",
              "default      False\n",
              "balance      False\n",
              "housing      False\n",
              "loan         False\n",
              "contact      False\n",
              "day          False\n",
              "month        False\n",
              "duration     False\n",
              "campaign     False\n",
              "pdays        False\n",
              "previous     False\n",
              "poutcome     False\n",
              "y            False\n",
              "dtype: bool"
            ]
          },
          "metadata": {},
          "execution_count": 5
        }
      ]
    },
    {
      "cell_type": "markdown",
      "source": [
        "### Separate the numerical and categorical variables\n",
        "They will be treated differently in preprocessing and in visualization"
      ],
      "metadata": {
        "id": "qgnDbteGu-1z"
      }
    },
    {
      "cell_type": "code",
      "source": [
        "# separate the numerical columns\n",
        "# 'age', 'duration','campaign','pdays', 'previous'\n",
        "\n",
        "num_cols=['age', 'duration','campaign','pdays', 'previous']"
      ],
      "metadata": {
        "id": "QV4kcEBqgVmC"
      },
      "execution_count": null,
      "outputs": []
    },
    {
      "cell_type": "code",
      "source": [
        "# separate the categorical columns\n",
        "# 'job', 'marital', 'education', 'default', 'housing', 'loan', 'contact', 'month', 'poutcome', 'y'\n",
        "\n",
        "cat_cols=['job', 'marital', 'education', 'default', 'housing', 'loan', 'contact', 'month', 'poutcome', 'y'\n",
        "]"
      ],
      "metadata": {
        "id": "lglLot2QgiHk"
      },
      "execution_count": null,
      "outputs": []
    },
    {
      "cell_type": "markdown",
      "source": [
        "### Examine the first few rows of the numerical data"
      ],
      "metadata": {
        "id": "yRLNNdXsi2I6"
      }
    },
    {
      "cell_type": "code",
      "source": [
        "bank[num_cols]"
      ],
      "metadata": {
        "colab": {
          "base_uri": "https://localhost:8080/",
          "height": 424
        },
        "id": "3PZ43TMei8-B",
        "outputId": "159785cd-842b-4a0b-93f8-3fe45237b1b8"
      },
      "execution_count": null,
      "outputs": [
        {
          "output_type": "execute_result",
          "data": {
            "text/plain": [
              "       age  duration  campaign  pdays  previous\n",
              "0       58       261         1     -1         0\n",
              "1       44       151         1     -1         0\n",
              "2       33        76         1     -1         0\n",
              "3       47        92         1     -1         0\n",
              "4       33       198         1     -1         0\n",
              "...    ...       ...       ...    ...       ...\n",
              "45206   51       977         3     -1         0\n",
              "45207   71       456         2     -1         0\n",
              "45208   72      1127         5    184         3\n",
              "45209   57       508         4     -1         0\n",
              "45210   37       361         2    188        11\n",
              "\n",
              "[45211 rows x 5 columns]"
            ],
            "text/html": [
              "\n",
              "  <div id=\"df-fc27aa95-8d40-41e9-95a9-edacf3722531\">\n",
              "    <div class=\"colab-df-container\">\n",
              "      <div>\n",
              "<style scoped>\n",
              "    .dataframe tbody tr th:only-of-type {\n",
              "        vertical-align: middle;\n",
              "    }\n",
              "\n",
              "    .dataframe tbody tr th {\n",
              "        vertical-align: top;\n",
              "    }\n",
              "\n",
              "    .dataframe thead th {\n",
              "        text-align: right;\n",
              "    }\n",
              "</style>\n",
              "<table border=\"1\" class=\"dataframe\">\n",
              "  <thead>\n",
              "    <tr style=\"text-align: right;\">\n",
              "      <th></th>\n",
              "      <th>age</th>\n",
              "      <th>duration</th>\n",
              "      <th>campaign</th>\n",
              "      <th>pdays</th>\n",
              "      <th>previous</th>\n",
              "    </tr>\n",
              "  </thead>\n",
              "  <tbody>\n",
              "    <tr>\n",
              "      <th>0</th>\n",
              "      <td>58</td>\n",
              "      <td>261</td>\n",
              "      <td>1</td>\n",
              "      <td>-1</td>\n",
              "      <td>0</td>\n",
              "    </tr>\n",
              "    <tr>\n",
              "      <th>1</th>\n",
              "      <td>44</td>\n",
              "      <td>151</td>\n",
              "      <td>1</td>\n",
              "      <td>-1</td>\n",
              "      <td>0</td>\n",
              "    </tr>\n",
              "    <tr>\n",
              "      <th>2</th>\n",
              "      <td>33</td>\n",
              "      <td>76</td>\n",
              "      <td>1</td>\n",
              "      <td>-1</td>\n",
              "      <td>0</td>\n",
              "    </tr>\n",
              "    <tr>\n",
              "      <th>3</th>\n",
              "      <td>47</td>\n",
              "      <td>92</td>\n",
              "      <td>1</td>\n",
              "      <td>-1</td>\n",
              "      <td>0</td>\n",
              "    </tr>\n",
              "    <tr>\n",
              "      <th>4</th>\n",
              "      <td>33</td>\n",
              "      <td>198</td>\n",
              "      <td>1</td>\n",
              "      <td>-1</td>\n",
              "      <td>0</td>\n",
              "    </tr>\n",
              "    <tr>\n",
              "      <th>...</th>\n",
              "      <td>...</td>\n",
              "      <td>...</td>\n",
              "      <td>...</td>\n",
              "      <td>...</td>\n",
              "      <td>...</td>\n",
              "    </tr>\n",
              "    <tr>\n",
              "      <th>45206</th>\n",
              "      <td>51</td>\n",
              "      <td>977</td>\n",
              "      <td>3</td>\n",
              "      <td>-1</td>\n",
              "      <td>0</td>\n",
              "    </tr>\n",
              "    <tr>\n",
              "      <th>45207</th>\n",
              "      <td>71</td>\n",
              "      <td>456</td>\n",
              "      <td>2</td>\n",
              "      <td>-1</td>\n",
              "      <td>0</td>\n",
              "    </tr>\n",
              "    <tr>\n",
              "      <th>45208</th>\n",
              "      <td>72</td>\n",
              "      <td>1127</td>\n",
              "      <td>5</td>\n",
              "      <td>184</td>\n",
              "      <td>3</td>\n",
              "    </tr>\n",
              "    <tr>\n",
              "      <th>45209</th>\n",
              "      <td>57</td>\n",
              "      <td>508</td>\n",
              "      <td>4</td>\n",
              "      <td>-1</td>\n",
              "      <td>0</td>\n",
              "    </tr>\n",
              "    <tr>\n",
              "      <th>45210</th>\n",
              "      <td>37</td>\n",
              "      <td>361</td>\n",
              "      <td>2</td>\n",
              "      <td>188</td>\n",
              "      <td>11</td>\n",
              "    </tr>\n",
              "  </tbody>\n",
              "</table>\n",
              "<p>45211 rows × 5 columns</p>\n",
              "</div>\n",
              "      <button class=\"colab-df-convert\" onclick=\"convertToInteractive('df-fc27aa95-8d40-41e9-95a9-edacf3722531')\"\n",
              "              title=\"Convert this dataframe to an interactive table.\"\n",
              "              style=\"display:none;\">\n",
              "        \n",
              "  <svg xmlns=\"http://www.w3.org/2000/svg\" height=\"24px\"viewBox=\"0 0 24 24\"\n",
              "       width=\"24px\">\n",
              "    <path d=\"M0 0h24v24H0V0z\" fill=\"none\"/>\n",
              "    <path d=\"M18.56 5.44l.94 2.06.94-2.06 2.06-.94-2.06-.94-.94-2.06-.94 2.06-2.06.94zm-11 1L8.5 8.5l.94-2.06 2.06-.94-2.06-.94L8.5 2.5l-.94 2.06-2.06.94zm10 10l.94 2.06.94-2.06 2.06-.94-2.06-.94-.94-2.06-.94 2.06-2.06.94z\"/><path d=\"M17.41 7.96l-1.37-1.37c-.4-.4-.92-.59-1.43-.59-.52 0-1.04.2-1.43.59L10.3 9.45l-7.72 7.72c-.78.78-.78 2.05 0 2.83L4 21.41c.39.39.9.59 1.41.59.51 0 1.02-.2 1.41-.59l7.78-7.78 2.81-2.81c.8-.78.8-2.07 0-2.86zM5.41 20L4 18.59l7.72-7.72 1.47 1.35L5.41 20z\"/>\n",
              "  </svg>\n",
              "      </button>\n",
              "      \n",
              "  <style>\n",
              "    .colab-df-container {\n",
              "      display:flex;\n",
              "      flex-wrap:wrap;\n",
              "      gap: 12px;\n",
              "    }\n",
              "\n",
              "    .colab-df-convert {\n",
              "      background-color: #E8F0FE;\n",
              "      border: none;\n",
              "      border-radius: 50%;\n",
              "      cursor: pointer;\n",
              "      display: none;\n",
              "      fill: #1967D2;\n",
              "      height: 32px;\n",
              "      padding: 0 0 0 0;\n",
              "      width: 32px;\n",
              "    }\n",
              "\n",
              "    .colab-df-convert:hover {\n",
              "      background-color: #E2EBFA;\n",
              "      box-shadow: 0px 1px 2px rgba(60, 64, 67, 0.3), 0px 1px 3px 1px rgba(60, 64, 67, 0.15);\n",
              "      fill: #174EA6;\n",
              "    }\n",
              "\n",
              "    [theme=dark] .colab-df-convert {\n",
              "      background-color: #3B4455;\n",
              "      fill: #D2E3FC;\n",
              "    }\n",
              "\n",
              "    [theme=dark] .colab-df-convert:hover {\n",
              "      background-color: #434B5C;\n",
              "      box-shadow: 0px 1px 3px 1px rgba(0, 0, 0, 0.15);\n",
              "      filter: drop-shadow(0px 1px 2px rgba(0, 0, 0, 0.3));\n",
              "      fill: #FFFFFF;\n",
              "    }\n",
              "  </style>\n",
              "\n",
              "      <script>\n",
              "        const buttonEl =\n",
              "          document.querySelector('#df-fc27aa95-8d40-41e9-95a9-edacf3722531 button.colab-df-convert');\n",
              "        buttonEl.style.display =\n",
              "          google.colab.kernel.accessAllowed ? 'block' : 'none';\n",
              "\n",
              "        async function convertToInteractive(key) {\n",
              "          const element = document.querySelector('#df-fc27aa95-8d40-41e9-95a9-edacf3722531');\n",
              "          const dataTable =\n",
              "            await google.colab.kernel.invokeFunction('convertToInteractive',\n",
              "                                                     [key], {});\n",
              "          if (!dataTable) return;\n",
              "\n",
              "          const docLinkHtml = 'Like what you see? Visit the ' +\n",
              "            '<a target=\"_blank\" href=https://colab.research.google.com/notebooks/data_table.ipynb>data table notebook</a>'\n",
              "            + ' to learn more about interactive tables.';\n",
              "          element.innerHTML = '';\n",
              "          dataTable['output_type'] = 'display_data';\n",
              "          await google.colab.output.renderOutput(dataTable, element);\n",
              "          const docLink = document.createElement('div');\n",
              "          docLink.innerHTML = docLinkHtml;\n",
              "          element.appendChild(docLink);\n",
              "        }\n",
              "      </script>\n",
              "    </div>\n",
              "  </div>\n",
              "  "
            ]
          },
          "metadata": {},
          "execution_count": 8
        }
      ]
    },
    {
      "cell_type": "markdown",
      "source": [
        "### Run a statistical summary of the numerical data"
      ],
      "metadata": {
        "id": "hA9qtgx8iCLE"
      }
    },
    {
      "cell_type": "code",
      "source": [
        "bank[num_cols].describe()"
      ],
      "metadata": {
        "colab": {
          "base_uri": "https://localhost:8080/",
          "height": 300
        },
        "id": "yqpOrmkqiBx1",
        "outputId": "fe4ce096-6252-4fb3-885f-89ba99e3a65d"
      },
      "execution_count": null,
      "outputs": [
        {
          "output_type": "execute_result",
          "data": {
            "text/plain": [
              "                age      duration      campaign         pdays      previous\n",
              "count  45211.000000  45211.000000  45211.000000  45211.000000  45211.000000\n",
              "mean      40.936210    258.163080      2.763841     40.197828      0.580323\n",
              "std       10.618762    257.527812      3.098021    100.128746      2.303441\n",
              "min       18.000000      0.000000      1.000000     -1.000000      0.000000\n",
              "25%       33.000000    103.000000      1.000000     -1.000000      0.000000\n",
              "50%       39.000000    180.000000      2.000000     -1.000000      0.000000\n",
              "75%       48.000000    319.000000      3.000000     -1.000000      0.000000\n",
              "max       95.000000   4918.000000     63.000000    871.000000    275.000000"
            ],
            "text/html": [
              "\n",
              "  <div id=\"df-963dac6c-1e8d-4d2a-97ed-39be2e80596e\">\n",
              "    <div class=\"colab-df-container\">\n",
              "      <div>\n",
              "<style scoped>\n",
              "    .dataframe tbody tr th:only-of-type {\n",
              "        vertical-align: middle;\n",
              "    }\n",
              "\n",
              "    .dataframe tbody tr th {\n",
              "        vertical-align: top;\n",
              "    }\n",
              "\n",
              "    .dataframe thead th {\n",
              "        text-align: right;\n",
              "    }\n",
              "</style>\n",
              "<table border=\"1\" class=\"dataframe\">\n",
              "  <thead>\n",
              "    <tr style=\"text-align: right;\">\n",
              "      <th></th>\n",
              "      <th>age</th>\n",
              "      <th>duration</th>\n",
              "      <th>campaign</th>\n",
              "      <th>pdays</th>\n",
              "      <th>previous</th>\n",
              "    </tr>\n",
              "  </thead>\n",
              "  <tbody>\n",
              "    <tr>\n",
              "      <th>count</th>\n",
              "      <td>45211.000000</td>\n",
              "      <td>45211.000000</td>\n",
              "      <td>45211.000000</td>\n",
              "      <td>45211.000000</td>\n",
              "      <td>45211.000000</td>\n",
              "    </tr>\n",
              "    <tr>\n",
              "      <th>mean</th>\n",
              "      <td>40.936210</td>\n",
              "      <td>258.163080</td>\n",
              "      <td>2.763841</td>\n",
              "      <td>40.197828</td>\n",
              "      <td>0.580323</td>\n",
              "    </tr>\n",
              "    <tr>\n",
              "      <th>std</th>\n",
              "      <td>10.618762</td>\n",
              "      <td>257.527812</td>\n",
              "      <td>3.098021</td>\n",
              "      <td>100.128746</td>\n",
              "      <td>2.303441</td>\n",
              "    </tr>\n",
              "    <tr>\n",
              "      <th>min</th>\n",
              "      <td>18.000000</td>\n",
              "      <td>0.000000</td>\n",
              "      <td>1.000000</td>\n",
              "      <td>-1.000000</td>\n",
              "      <td>0.000000</td>\n",
              "    </tr>\n",
              "    <tr>\n",
              "      <th>25%</th>\n",
              "      <td>33.000000</td>\n",
              "      <td>103.000000</td>\n",
              "      <td>1.000000</td>\n",
              "      <td>-1.000000</td>\n",
              "      <td>0.000000</td>\n",
              "    </tr>\n",
              "    <tr>\n",
              "      <th>50%</th>\n",
              "      <td>39.000000</td>\n",
              "      <td>180.000000</td>\n",
              "      <td>2.000000</td>\n",
              "      <td>-1.000000</td>\n",
              "      <td>0.000000</td>\n",
              "    </tr>\n",
              "    <tr>\n",
              "      <th>75%</th>\n",
              "      <td>48.000000</td>\n",
              "      <td>319.000000</td>\n",
              "      <td>3.000000</td>\n",
              "      <td>-1.000000</td>\n",
              "      <td>0.000000</td>\n",
              "    </tr>\n",
              "    <tr>\n",
              "      <th>max</th>\n",
              "      <td>95.000000</td>\n",
              "      <td>4918.000000</td>\n",
              "      <td>63.000000</td>\n",
              "      <td>871.000000</td>\n",
              "      <td>275.000000</td>\n",
              "    </tr>\n",
              "  </tbody>\n",
              "</table>\n",
              "</div>\n",
              "      <button class=\"colab-df-convert\" onclick=\"convertToInteractive('df-963dac6c-1e8d-4d2a-97ed-39be2e80596e')\"\n",
              "              title=\"Convert this dataframe to an interactive table.\"\n",
              "              style=\"display:none;\">\n",
              "        \n",
              "  <svg xmlns=\"http://www.w3.org/2000/svg\" height=\"24px\"viewBox=\"0 0 24 24\"\n",
              "       width=\"24px\">\n",
              "    <path d=\"M0 0h24v24H0V0z\" fill=\"none\"/>\n",
              "    <path d=\"M18.56 5.44l.94 2.06.94-2.06 2.06-.94-2.06-.94-.94-2.06-.94 2.06-2.06.94zm-11 1L8.5 8.5l.94-2.06 2.06-.94-2.06-.94L8.5 2.5l-.94 2.06-2.06.94zm10 10l.94 2.06.94-2.06 2.06-.94-2.06-.94-.94-2.06-.94 2.06-2.06.94z\"/><path d=\"M17.41 7.96l-1.37-1.37c-.4-.4-.92-.59-1.43-.59-.52 0-1.04.2-1.43.59L10.3 9.45l-7.72 7.72c-.78.78-.78 2.05 0 2.83L4 21.41c.39.39.9.59 1.41.59.51 0 1.02-.2 1.41-.59l7.78-7.78 2.81-2.81c.8-.78.8-2.07 0-2.86zM5.41 20L4 18.59l7.72-7.72 1.47 1.35L5.41 20z\"/>\n",
              "  </svg>\n",
              "      </button>\n",
              "      \n",
              "  <style>\n",
              "    .colab-df-container {\n",
              "      display:flex;\n",
              "      flex-wrap:wrap;\n",
              "      gap: 12px;\n",
              "    }\n",
              "\n",
              "    .colab-df-convert {\n",
              "      background-color: #E8F0FE;\n",
              "      border: none;\n",
              "      border-radius: 50%;\n",
              "      cursor: pointer;\n",
              "      display: none;\n",
              "      fill: #1967D2;\n",
              "      height: 32px;\n",
              "      padding: 0 0 0 0;\n",
              "      width: 32px;\n",
              "    }\n",
              "\n",
              "    .colab-df-convert:hover {\n",
              "      background-color: #E2EBFA;\n",
              "      box-shadow: 0px 1px 2px rgba(60, 64, 67, 0.3), 0px 1px 3px 1px rgba(60, 64, 67, 0.15);\n",
              "      fill: #174EA6;\n",
              "    }\n",
              "\n",
              "    [theme=dark] .colab-df-convert {\n",
              "      background-color: #3B4455;\n",
              "      fill: #D2E3FC;\n",
              "    }\n",
              "\n",
              "    [theme=dark] .colab-df-convert:hover {\n",
              "      background-color: #434B5C;\n",
              "      box-shadow: 0px 1px 3px 1px rgba(0, 0, 0, 0.15);\n",
              "      filter: drop-shadow(0px 1px 2px rgba(0, 0, 0, 0.3));\n",
              "      fill: #FFFFFF;\n",
              "    }\n",
              "  </style>\n",
              "\n",
              "      <script>\n",
              "        const buttonEl =\n",
              "          document.querySelector('#df-963dac6c-1e8d-4d2a-97ed-39be2e80596e button.colab-df-convert');\n",
              "        buttonEl.style.display =\n",
              "          google.colab.kernel.accessAllowed ? 'block' : 'none';\n",
              "\n",
              "        async function convertToInteractive(key) {\n",
              "          const element = document.querySelector('#df-963dac6c-1e8d-4d2a-97ed-39be2e80596e');\n",
              "          const dataTable =\n",
              "            await google.colab.kernel.invokeFunction('convertToInteractive',\n",
              "                                                     [key], {});\n",
              "          if (!dataTable) return;\n",
              "\n",
              "          const docLinkHtml = 'Like what you see? Visit the ' +\n",
              "            '<a target=\"_blank\" href=https://colab.research.google.com/notebooks/data_table.ipynb>data table notebook</a>'\n",
              "            + ' to learn more about interactive tables.';\n",
              "          element.innerHTML = '';\n",
              "          dataTable['output_type'] = 'display_data';\n",
              "          await google.colab.output.renderOutput(dataTable, element);\n",
              "          const docLink = document.createElement('div');\n",
              "          docLink.innerHTML = docLinkHtml;\n",
              "          element.appendChild(docLink);\n",
              "        }\n",
              "      </script>\n",
              "    </div>\n",
              "  </div>\n",
              "  "
            ]
          },
          "metadata": {},
          "execution_count": 9
        }
      ]
    },
    {
      "cell_type": "markdown",
      "source": [
        "### Examine the first few rows of the categorical data\n"
      ],
      "metadata": {
        "id": "IPDe7sFRiexk"
      }
    },
    {
      "cell_type": "code",
      "source": [
        "bank[cat_cols].head()"
      ],
      "metadata": {
        "colab": {
          "base_uri": "https://localhost:8080/",
          "height": 206
        },
        "id": "jYIXKSxwkBFx",
        "outputId": "9c43f8ea-1b98-46c3-fa7c-cc80c125541b"
      },
      "execution_count": null,
      "outputs": [
        {
          "output_type": "execute_result",
          "data": {
            "text/plain": [
              "            job  marital  education default housing loan  contact month  \\\n",
              "0    management  married   tertiary      no     yes   no  unknown   may   \n",
              "1    technician   single  secondary      no     yes   no  unknown   may   \n",
              "2  entrepreneur  married  secondary      no     yes  yes  unknown   may   \n",
              "3   blue-collar  married    unknown      no     yes   no  unknown   may   \n",
              "4       unknown   single    unknown      no      no   no  unknown   may   \n",
              "\n",
              "  poutcome   y  \n",
              "0  unknown  no  \n",
              "1  unknown  no  \n",
              "2  unknown  no  \n",
              "3  unknown  no  \n",
              "4  unknown  no  "
            ],
            "text/html": [
              "\n",
              "  <div id=\"df-1dc24a02-e444-4527-bd68-e3ef86248c6c\">\n",
              "    <div class=\"colab-df-container\">\n",
              "      <div>\n",
              "<style scoped>\n",
              "    .dataframe tbody tr th:only-of-type {\n",
              "        vertical-align: middle;\n",
              "    }\n",
              "\n",
              "    .dataframe tbody tr th {\n",
              "        vertical-align: top;\n",
              "    }\n",
              "\n",
              "    .dataframe thead th {\n",
              "        text-align: right;\n",
              "    }\n",
              "</style>\n",
              "<table border=\"1\" class=\"dataframe\">\n",
              "  <thead>\n",
              "    <tr style=\"text-align: right;\">\n",
              "      <th></th>\n",
              "      <th>job</th>\n",
              "      <th>marital</th>\n",
              "      <th>education</th>\n",
              "      <th>default</th>\n",
              "      <th>housing</th>\n",
              "      <th>loan</th>\n",
              "      <th>contact</th>\n",
              "      <th>month</th>\n",
              "      <th>poutcome</th>\n",
              "      <th>y</th>\n",
              "    </tr>\n",
              "  </thead>\n",
              "  <tbody>\n",
              "    <tr>\n",
              "      <th>0</th>\n",
              "      <td>management</td>\n",
              "      <td>married</td>\n",
              "      <td>tertiary</td>\n",
              "      <td>no</td>\n",
              "      <td>yes</td>\n",
              "      <td>no</td>\n",
              "      <td>unknown</td>\n",
              "      <td>may</td>\n",
              "      <td>unknown</td>\n",
              "      <td>no</td>\n",
              "    </tr>\n",
              "    <tr>\n",
              "      <th>1</th>\n",
              "      <td>technician</td>\n",
              "      <td>single</td>\n",
              "      <td>secondary</td>\n",
              "      <td>no</td>\n",
              "      <td>yes</td>\n",
              "      <td>no</td>\n",
              "      <td>unknown</td>\n",
              "      <td>may</td>\n",
              "      <td>unknown</td>\n",
              "      <td>no</td>\n",
              "    </tr>\n",
              "    <tr>\n",
              "      <th>2</th>\n",
              "      <td>entrepreneur</td>\n",
              "      <td>married</td>\n",
              "      <td>secondary</td>\n",
              "      <td>no</td>\n",
              "      <td>yes</td>\n",
              "      <td>yes</td>\n",
              "      <td>unknown</td>\n",
              "      <td>may</td>\n",
              "      <td>unknown</td>\n",
              "      <td>no</td>\n",
              "    </tr>\n",
              "    <tr>\n",
              "      <th>3</th>\n",
              "      <td>blue-collar</td>\n",
              "      <td>married</td>\n",
              "      <td>unknown</td>\n",
              "      <td>no</td>\n",
              "      <td>yes</td>\n",
              "      <td>no</td>\n",
              "      <td>unknown</td>\n",
              "      <td>may</td>\n",
              "      <td>unknown</td>\n",
              "      <td>no</td>\n",
              "    </tr>\n",
              "    <tr>\n",
              "      <th>4</th>\n",
              "      <td>unknown</td>\n",
              "      <td>single</td>\n",
              "      <td>unknown</td>\n",
              "      <td>no</td>\n",
              "      <td>no</td>\n",
              "      <td>no</td>\n",
              "      <td>unknown</td>\n",
              "      <td>may</td>\n",
              "      <td>unknown</td>\n",
              "      <td>no</td>\n",
              "    </tr>\n",
              "  </tbody>\n",
              "</table>\n",
              "</div>\n",
              "      <button class=\"colab-df-convert\" onclick=\"convertToInteractive('df-1dc24a02-e444-4527-bd68-e3ef86248c6c')\"\n",
              "              title=\"Convert this dataframe to an interactive table.\"\n",
              "              style=\"display:none;\">\n",
              "        \n",
              "  <svg xmlns=\"http://www.w3.org/2000/svg\" height=\"24px\"viewBox=\"0 0 24 24\"\n",
              "       width=\"24px\">\n",
              "    <path d=\"M0 0h24v24H0V0z\" fill=\"none\"/>\n",
              "    <path d=\"M18.56 5.44l.94 2.06.94-2.06 2.06-.94-2.06-.94-.94-2.06-.94 2.06-2.06.94zm-11 1L8.5 8.5l.94-2.06 2.06-.94-2.06-.94L8.5 2.5l-.94 2.06-2.06.94zm10 10l.94 2.06.94-2.06 2.06-.94-2.06-.94-.94-2.06-.94 2.06-2.06.94z\"/><path d=\"M17.41 7.96l-1.37-1.37c-.4-.4-.92-.59-1.43-.59-.52 0-1.04.2-1.43.59L10.3 9.45l-7.72 7.72c-.78.78-.78 2.05 0 2.83L4 21.41c.39.39.9.59 1.41.59.51 0 1.02-.2 1.41-.59l7.78-7.78 2.81-2.81c.8-.78.8-2.07 0-2.86zM5.41 20L4 18.59l7.72-7.72 1.47 1.35L5.41 20z\"/>\n",
              "  </svg>\n",
              "      </button>\n",
              "      \n",
              "  <style>\n",
              "    .colab-df-container {\n",
              "      display:flex;\n",
              "      flex-wrap:wrap;\n",
              "      gap: 12px;\n",
              "    }\n",
              "\n",
              "    .colab-df-convert {\n",
              "      background-color: #E8F0FE;\n",
              "      border: none;\n",
              "      border-radius: 50%;\n",
              "      cursor: pointer;\n",
              "      display: none;\n",
              "      fill: #1967D2;\n",
              "      height: 32px;\n",
              "      padding: 0 0 0 0;\n",
              "      width: 32px;\n",
              "    }\n",
              "\n",
              "    .colab-df-convert:hover {\n",
              "      background-color: #E2EBFA;\n",
              "      box-shadow: 0px 1px 2px rgba(60, 64, 67, 0.3), 0px 1px 3px 1px rgba(60, 64, 67, 0.15);\n",
              "      fill: #174EA6;\n",
              "    }\n",
              "\n",
              "    [theme=dark] .colab-df-convert {\n",
              "      background-color: #3B4455;\n",
              "      fill: #D2E3FC;\n",
              "    }\n",
              "\n",
              "    [theme=dark] .colab-df-convert:hover {\n",
              "      background-color: #434B5C;\n",
              "      box-shadow: 0px 1px 3px 1px rgba(0, 0, 0, 0.15);\n",
              "      filter: drop-shadow(0px 1px 2px rgba(0, 0, 0, 0.3));\n",
              "      fill: #FFFFFF;\n",
              "    }\n",
              "  </style>\n",
              "\n",
              "      <script>\n",
              "        const buttonEl =\n",
              "          document.querySelector('#df-1dc24a02-e444-4527-bd68-e3ef86248c6c button.colab-df-convert');\n",
              "        buttonEl.style.display =\n",
              "          google.colab.kernel.accessAllowed ? 'block' : 'none';\n",
              "\n",
              "        async function convertToInteractive(key) {\n",
              "          const element = document.querySelector('#df-1dc24a02-e444-4527-bd68-e3ef86248c6c');\n",
              "          const dataTable =\n",
              "            await google.colab.kernel.invokeFunction('convertToInteractive',\n",
              "                                                     [key], {});\n",
              "          if (!dataTable) return;\n",
              "\n",
              "          const docLinkHtml = 'Like what you see? Visit the ' +\n",
              "            '<a target=\"_blank\" href=https://colab.research.google.com/notebooks/data_table.ipynb>data table notebook</a>'\n",
              "            + ' to learn more about interactive tables.';\n",
              "          element.innerHTML = '';\n",
              "          dataTable['output_type'] = 'display_data';\n",
              "          await google.colab.output.renderOutput(dataTable, element);\n",
              "          const docLink = document.createElement('div');\n",
              "          docLink.innerHTML = docLinkHtml;\n",
              "          element.appendChild(docLink);\n",
              "        }\n",
              "      </script>\n",
              "    </div>\n",
              "  </div>\n",
              "  "
            ]
          },
          "metadata": {},
          "execution_count": 10
        }
      ]
    },
    {
      "cell_type": "markdown",
      "source": [
        "### Creating dummy variables for the categorical variables.\n",
        "\n",
        "Before doing so, check for the unique values in the column using the ```unique()``` method. The variables with only two values will be handled differently (note that this separation is not a requirement, merely conventional).\n",
        "\n",
        "```data_frame['column'].unique()```"
      ],
      "metadata": {
        "id": "nxuyKchhnFL3"
      }
    },
    {
      "cell_type": "code",
      "source": [
        "bank['job'].unique()"
      ],
      "metadata": {
        "colab": {
          "base_uri": "https://localhost:8080/"
        },
        "id": "jjjdrQ2noRmP",
        "outputId": "61b9cb09-a323-4585-9b39-b9fd50c220ad"
      },
      "execution_count": null,
      "outputs": [
        {
          "output_type": "execute_result",
          "data": {
            "text/plain": [
              "array(['management', 'technician', 'entrepreneur', 'blue-collar',\n",
              "       'unknown', 'retired', 'admin.', 'services', 'self-employed',\n",
              "       'unemployed', 'housemaid', 'student'], dtype=object)"
            ]
          },
          "metadata": {},
          "execution_count": 11
        }
      ]
    },
    {
      "cell_type": "code",
      "source": [
        "bank['marital'].unique()"
      ],
      "metadata": {
        "colab": {
          "base_uri": "https://localhost:8080/"
        },
        "id": "wnQUO52ToYI6",
        "outputId": "0045e369-dfbf-478b-b005-3bdc3d56389d"
      },
      "execution_count": null,
      "outputs": [
        {
          "output_type": "execute_result",
          "data": {
            "text/plain": [
              "array(['married', 'single', 'divorced'], dtype=object)"
            ]
          },
          "metadata": {},
          "execution_count": 12
        }
      ]
    },
    {
      "cell_type": "code",
      "source": [
        "bank['education'].unique()"
      ],
      "metadata": {
        "colab": {
          "base_uri": "https://localhost:8080/"
        },
        "id": "Xn50FJMroXvF",
        "outputId": "b3a544e9-b3f2-4b1b-ad22-6f7a8f3e1fba"
      },
      "execution_count": null,
      "outputs": [
        {
          "output_type": "execute_result",
          "data": {
            "text/plain": [
              "array(['tertiary', 'secondary', 'unknown', 'primary'], dtype=object)"
            ]
          },
          "metadata": {},
          "execution_count": 13
        }
      ]
    },
    {
      "cell_type": "code",
      "source": [
        "bank['contact'].unique()"
      ],
      "metadata": {
        "colab": {
          "base_uri": "https://localhost:8080/"
        },
        "id": "RmRuurkkpQIW",
        "outputId": "0248c1bf-4005-4f50-87eb-c94af139d329"
      },
      "execution_count": null,
      "outputs": [
        {
          "output_type": "execute_result",
          "data": {
            "text/plain": [
              "array(['unknown', 'cellular', 'telephone'], dtype=object)"
            ]
          },
          "metadata": {},
          "execution_count": 14
        }
      ]
    },
    {
      "cell_type": "code",
      "source": [
        "bank['month'].unique()"
      ],
      "metadata": {
        "colab": {
          "base_uri": "https://localhost:8080/"
        },
        "id": "5FsNisw1pWgk",
        "outputId": "7558a631-a004-42f9-b21f-e04ffc8e2447"
      },
      "execution_count": null,
      "outputs": [
        {
          "output_type": "execute_result",
          "data": {
            "text/plain": [
              "array(['may', 'jun', 'jul', 'aug', 'oct', 'nov', 'dec', 'jan', 'feb',\n",
              "       'mar', 'apr', 'sep'], dtype=object)"
            ]
          },
          "metadata": {},
          "execution_count": 15
        }
      ]
    },
    {
      "cell_type": "code",
      "source": [
        "bank['poutcome'].unique()"
      ],
      "metadata": {
        "colab": {
          "base_uri": "https://localhost:8080/"
        },
        "id": "8xZpfNJ4pbKU",
        "outputId": "47bdafa5-cec7-4f9f-ae1a-847770e42bee"
      },
      "execution_count": null,
      "outputs": [
        {
          "output_type": "execute_result",
          "data": {
            "text/plain": [
              "array(['unknown', 'failure', 'other', 'success'], dtype=object)"
            ]
          },
          "metadata": {},
          "execution_count": 16
        }
      ]
    },
    {
      "cell_type": "markdown",
      "source": [
        "### Get dummies for ```'job', 'marital', 'education', 'contact', 'month', 'poutcome'```\n",
        "Use the ```get_dummies()``` method for the variables with more than two categories. Reassign the bank data frame so that it has the newly transformed variables.\n",
        "```\n",
        "data_frame=pd.get_dummies(data=data_frame, columns=categorical_columns, drop_first=True)\n",
        "```"
      ],
      "metadata": {
        "id": "cIla_P37qflw"
      }
    },
    {
      "cell_type": "code",
      "source": [
        "#creating list of dummy columns\n",
        "cat_cols_dummies=['job', 'marital', 'education', 'contact', 'month', 'poutcome']\n",
        "\n",
        "#creating dummy variables and reassigning the data frame\n",
        "bank = pd.get_dummies(data = bank, columns= cat_cols_dummies, drop_first= True)\n"
      ],
      "metadata": {
        "id": "Gxve9cx9nKum"
      },
      "execution_count": null,
      "outputs": []
    },
    {
      "cell_type": "markdown",
      "source": [
        "### Convert ```yes', 'no'``` to ```0, 1```\n",
        "For categorical variables with 'yes' or 'no' values, convert the 'yes' to 1 and the 'no' values to 0."
      ],
      "metadata": {
        "id": "RDX6CFF_nmQx"
      }
    },
    {
      "cell_type": "code",
      "source": [
        "bank['default'].unique()"
      ],
      "metadata": {
        "colab": {
          "base_uri": "https://localhost:8080/"
        },
        "id": "Nhsa4drUojG1",
        "outputId": "05a7440f-cc94-4e77-bcbb-cbb3fa023ef0"
      },
      "execution_count": null,
      "outputs": [
        {
          "output_type": "execute_result",
          "data": {
            "text/plain": [
              "array(['no', 'yes'], dtype=object)"
            ]
          },
          "metadata": {},
          "execution_count": 18
        }
      ]
    },
    {
      "cell_type": "code",
      "source": [
        "bank['housing'].unique()"
      ],
      "metadata": {
        "colab": {
          "base_uri": "https://localhost:8080/"
        },
        "id": "3pHb-jwvoskK",
        "outputId": "364c57f7-c5d9-4463-bf54-77ae099b1008"
      },
      "execution_count": null,
      "outputs": [
        {
          "output_type": "execute_result",
          "data": {
            "text/plain": [
              "array(['yes', 'no'], dtype=object)"
            ]
          },
          "metadata": {},
          "execution_count": 19
        }
      ]
    },
    {
      "cell_type": "code",
      "source": [
        "bank['loan'].unique()"
      ],
      "metadata": {
        "colab": {
          "base_uri": "https://localhost:8080/"
        },
        "id": "J5q6NGVqpDTf",
        "outputId": "0bb9001a-1c91-45ef-ae4e-3ae1473d8bf1"
      },
      "execution_count": null,
      "outputs": [
        {
          "output_type": "execute_result",
          "data": {
            "text/plain": [
              "array(['no', 'yes'], dtype=object)"
            ]
          },
          "metadata": {},
          "execution_count": 20
        }
      ]
    },
    {
      "cell_type": "code",
      "source": [
        "bank['y'].unique()"
      ],
      "metadata": {
        "colab": {
          "base_uri": "https://localhost:8080/"
        },
        "id": "gkTS60Qgp9IQ",
        "outputId": "1fcec50e-2226-45ca-ac80-8249bed20f13"
      },
      "execution_count": null,
      "outputs": [
        {
          "output_type": "execute_result",
          "data": {
            "text/plain": [
              "array(['no', 'yes'], dtype=object)"
            ]
          },
          "metadata": {},
          "execution_count": 21
        }
      ]
    },
    {
      "cell_type": "code",
      "source": [
        "dict_default={'yes': 1, 'no':0}\n",
        "dict_housing={'yes': 1, 'no':0}\n",
        "dict_loan={'yes': 1, 'no':0}\n",
        "dict_y={'yes': 1, 'no':0}\n",
        "\n",
        "bank['default']=bank.default.map(dict_default)\n",
        "bank['housing']=bank.housing.map(dict_housing)\n",
        "bank['loan']=bank.loan.map(dict_loan)\n",
        "bank['y']=bank.y.map(dict_y)\n"
      ],
      "metadata": {
        "id": "WIdPA6E0oo4N"
      },
      "execution_count": null,
      "outputs": []
    },
    {
      "cell_type": "markdown",
      "source": [
        "### Examine the first few lines of the bank data *set*"
      ],
      "metadata": {
        "id": "TVlmovobsaUa"
      }
    },
    {
      "cell_type": "code",
      "source": [
        "bank.head()"
      ],
      "metadata": {
        "colab": {
          "base_uri": "https://localhost:8080/",
          "height": 299
        },
        "id": "MwfZHTwQskPZ",
        "outputId": "6d897a83-4091-4af2-e76c-f093d877c8b4"
      },
      "execution_count": null,
      "outputs": [
        {
          "output_type": "execute_result",
          "data": {
            "text/plain": [
              "   age  default  balance  housing  loan  day  duration  campaign  pdays  \\\n",
              "0   58        0     2143        1     0    5       261         1     -1   \n",
              "1   44        0       29        1     0    5       151         1     -1   \n",
              "2   33        0        2        1     1    5        76         1     -1   \n",
              "3   47        0     1506        1     0    5        92         1     -1   \n",
              "4   33        0        1        0     0    5       198         1     -1   \n",
              "\n",
              "   previous  ...  month_jul  month_jun  month_mar  month_may  month_nov  \\\n",
              "0         0  ...          0          0          0          1          0   \n",
              "1         0  ...          0          0          0          1          0   \n",
              "2         0  ...          0          0          0          1          0   \n",
              "3         0  ...          0          0          0          1          0   \n",
              "4         0  ...          0          0          0          1          0   \n",
              "\n",
              "   month_oct  month_sep  poutcome_other  poutcome_success  poutcome_unknown  \n",
              "0          0          0               0                 0                 1  \n",
              "1          0          0               0                 0                 1  \n",
              "2          0          0               0                 0                 1  \n",
              "3          0          0               0                 0                 1  \n",
              "4          0          0               0                 0                 1  \n",
              "\n",
              "[5 rows x 43 columns]"
            ],
            "text/html": [
              "\n",
              "  <div id=\"df-4bca4f2d-ebe8-4cc2-bb7d-9c52990d723b\">\n",
              "    <div class=\"colab-df-container\">\n",
              "      <div>\n",
              "<style scoped>\n",
              "    .dataframe tbody tr th:only-of-type {\n",
              "        vertical-align: middle;\n",
              "    }\n",
              "\n",
              "    .dataframe tbody tr th {\n",
              "        vertical-align: top;\n",
              "    }\n",
              "\n",
              "    .dataframe thead th {\n",
              "        text-align: right;\n",
              "    }\n",
              "</style>\n",
              "<table border=\"1\" class=\"dataframe\">\n",
              "  <thead>\n",
              "    <tr style=\"text-align: right;\">\n",
              "      <th></th>\n",
              "      <th>age</th>\n",
              "      <th>default</th>\n",
              "      <th>balance</th>\n",
              "      <th>housing</th>\n",
              "      <th>loan</th>\n",
              "      <th>day</th>\n",
              "      <th>duration</th>\n",
              "      <th>campaign</th>\n",
              "      <th>pdays</th>\n",
              "      <th>previous</th>\n",
              "      <th>...</th>\n",
              "      <th>month_jul</th>\n",
              "      <th>month_jun</th>\n",
              "      <th>month_mar</th>\n",
              "      <th>month_may</th>\n",
              "      <th>month_nov</th>\n",
              "      <th>month_oct</th>\n",
              "      <th>month_sep</th>\n",
              "      <th>poutcome_other</th>\n",
              "      <th>poutcome_success</th>\n",
              "      <th>poutcome_unknown</th>\n",
              "    </tr>\n",
              "  </thead>\n",
              "  <tbody>\n",
              "    <tr>\n",
              "      <th>0</th>\n",
              "      <td>58</td>\n",
              "      <td>0</td>\n",
              "      <td>2143</td>\n",
              "      <td>1</td>\n",
              "      <td>0</td>\n",
              "      <td>5</td>\n",
              "      <td>261</td>\n",
              "      <td>1</td>\n",
              "      <td>-1</td>\n",
              "      <td>0</td>\n",
              "      <td>...</td>\n",
              "      <td>0</td>\n",
              "      <td>0</td>\n",
              "      <td>0</td>\n",
              "      <td>1</td>\n",
              "      <td>0</td>\n",
              "      <td>0</td>\n",
              "      <td>0</td>\n",
              "      <td>0</td>\n",
              "      <td>0</td>\n",
              "      <td>1</td>\n",
              "    </tr>\n",
              "    <tr>\n",
              "      <th>1</th>\n",
              "      <td>44</td>\n",
              "      <td>0</td>\n",
              "      <td>29</td>\n",
              "      <td>1</td>\n",
              "      <td>0</td>\n",
              "      <td>5</td>\n",
              "      <td>151</td>\n",
              "      <td>1</td>\n",
              "      <td>-1</td>\n",
              "      <td>0</td>\n",
              "      <td>...</td>\n",
              "      <td>0</td>\n",
              "      <td>0</td>\n",
              "      <td>0</td>\n",
              "      <td>1</td>\n",
              "      <td>0</td>\n",
              "      <td>0</td>\n",
              "      <td>0</td>\n",
              "      <td>0</td>\n",
              "      <td>0</td>\n",
              "      <td>1</td>\n",
              "    </tr>\n",
              "    <tr>\n",
              "      <th>2</th>\n",
              "      <td>33</td>\n",
              "      <td>0</td>\n",
              "      <td>2</td>\n",
              "      <td>1</td>\n",
              "      <td>1</td>\n",
              "      <td>5</td>\n",
              "      <td>76</td>\n",
              "      <td>1</td>\n",
              "      <td>-1</td>\n",
              "      <td>0</td>\n",
              "      <td>...</td>\n",
              "      <td>0</td>\n",
              "      <td>0</td>\n",
              "      <td>0</td>\n",
              "      <td>1</td>\n",
              "      <td>0</td>\n",
              "      <td>0</td>\n",
              "      <td>0</td>\n",
              "      <td>0</td>\n",
              "      <td>0</td>\n",
              "      <td>1</td>\n",
              "    </tr>\n",
              "    <tr>\n",
              "      <th>3</th>\n",
              "      <td>47</td>\n",
              "      <td>0</td>\n",
              "      <td>1506</td>\n",
              "      <td>1</td>\n",
              "      <td>0</td>\n",
              "      <td>5</td>\n",
              "      <td>92</td>\n",
              "      <td>1</td>\n",
              "      <td>-1</td>\n",
              "      <td>0</td>\n",
              "      <td>...</td>\n",
              "      <td>0</td>\n",
              "      <td>0</td>\n",
              "      <td>0</td>\n",
              "      <td>1</td>\n",
              "      <td>0</td>\n",
              "      <td>0</td>\n",
              "      <td>0</td>\n",
              "      <td>0</td>\n",
              "      <td>0</td>\n",
              "      <td>1</td>\n",
              "    </tr>\n",
              "    <tr>\n",
              "      <th>4</th>\n",
              "      <td>33</td>\n",
              "      <td>0</td>\n",
              "      <td>1</td>\n",
              "      <td>0</td>\n",
              "      <td>0</td>\n",
              "      <td>5</td>\n",
              "      <td>198</td>\n",
              "      <td>1</td>\n",
              "      <td>-1</td>\n",
              "      <td>0</td>\n",
              "      <td>...</td>\n",
              "      <td>0</td>\n",
              "      <td>0</td>\n",
              "      <td>0</td>\n",
              "      <td>1</td>\n",
              "      <td>0</td>\n",
              "      <td>0</td>\n",
              "      <td>0</td>\n",
              "      <td>0</td>\n",
              "      <td>0</td>\n",
              "      <td>1</td>\n",
              "    </tr>\n",
              "  </tbody>\n",
              "</table>\n",
              "<p>5 rows × 43 columns</p>\n",
              "</div>\n",
              "      <button class=\"colab-df-convert\" onclick=\"convertToInteractive('df-4bca4f2d-ebe8-4cc2-bb7d-9c52990d723b')\"\n",
              "              title=\"Convert this dataframe to an interactive table.\"\n",
              "              style=\"display:none;\">\n",
              "        \n",
              "  <svg xmlns=\"http://www.w3.org/2000/svg\" height=\"24px\"viewBox=\"0 0 24 24\"\n",
              "       width=\"24px\">\n",
              "    <path d=\"M0 0h24v24H0V0z\" fill=\"none\"/>\n",
              "    <path d=\"M18.56 5.44l.94 2.06.94-2.06 2.06-.94-2.06-.94-.94-2.06-.94 2.06-2.06.94zm-11 1L8.5 8.5l.94-2.06 2.06-.94-2.06-.94L8.5 2.5l-.94 2.06-2.06.94zm10 10l.94 2.06.94-2.06 2.06-.94-2.06-.94-.94-2.06-.94 2.06-2.06.94z\"/><path d=\"M17.41 7.96l-1.37-1.37c-.4-.4-.92-.59-1.43-.59-.52 0-1.04.2-1.43.59L10.3 9.45l-7.72 7.72c-.78.78-.78 2.05 0 2.83L4 21.41c.39.39.9.59 1.41.59.51 0 1.02-.2 1.41-.59l7.78-7.78 2.81-2.81c.8-.78.8-2.07 0-2.86zM5.41 20L4 18.59l7.72-7.72 1.47 1.35L5.41 20z\"/>\n",
              "  </svg>\n",
              "      </button>\n",
              "      \n",
              "  <style>\n",
              "    .colab-df-container {\n",
              "      display:flex;\n",
              "      flex-wrap:wrap;\n",
              "      gap: 12px;\n",
              "    }\n",
              "\n",
              "    .colab-df-convert {\n",
              "      background-color: #E8F0FE;\n",
              "      border: none;\n",
              "      border-radius: 50%;\n",
              "      cursor: pointer;\n",
              "      display: none;\n",
              "      fill: #1967D2;\n",
              "      height: 32px;\n",
              "      padding: 0 0 0 0;\n",
              "      width: 32px;\n",
              "    }\n",
              "\n",
              "    .colab-df-convert:hover {\n",
              "      background-color: #E2EBFA;\n",
              "      box-shadow: 0px 1px 2px rgba(60, 64, 67, 0.3), 0px 1px 3px 1px rgba(60, 64, 67, 0.15);\n",
              "      fill: #174EA6;\n",
              "    }\n",
              "\n",
              "    [theme=dark] .colab-df-convert {\n",
              "      background-color: #3B4455;\n",
              "      fill: #D2E3FC;\n",
              "    }\n",
              "\n",
              "    [theme=dark] .colab-df-convert:hover {\n",
              "      background-color: #434B5C;\n",
              "      box-shadow: 0px 1px 3px 1px rgba(0, 0, 0, 0.15);\n",
              "      filter: drop-shadow(0px 1px 2px rgba(0, 0, 0, 0.3));\n",
              "      fill: #FFFFFF;\n",
              "    }\n",
              "  </style>\n",
              "\n",
              "      <script>\n",
              "        const buttonEl =\n",
              "          document.querySelector('#df-4bca4f2d-ebe8-4cc2-bb7d-9c52990d723b button.colab-df-convert');\n",
              "        buttonEl.style.display =\n",
              "          google.colab.kernel.accessAllowed ? 'block' : 'none';\n",
              "\n",
              "        async function convertToInteractive(key) {\n",
              "          const element = document.querySelector('#df-4bca4f2d-ebe8-4cc2-bb7d-9c52990d723b');\n",
              "          const dataTable =\n",
              "            await google.colab.kernel.invokeFunction('convertToInteractive',\n",
              "                                                     [key], {});\n",
              "          if (!dataTable) return;\n",
              "\n",
              "          const docLinkHtml = 'Like what you see? Visit the ' +\n",
              "            '<a target=\"_blank\" href=https://colab.research.google.com/notebooks/data_table.ipynb>data table notebook</a>'\n",
              "            + ' to learn more about interactive tables.';\n",
              "          element.innerHTML = '';\n",
              "          dataTable['output_type'] = 'display_data';\n",
              "          await google.colab.output.renderOutput(dataTable, element);\n",
              "          const docLink = document.createElement('div');\n",
              "          docLink.innerHTML = docLinkHtml;\n",
              "          element.appendChild(docLink);\n",
              "        }\n",
              "      </script>\n",
              "    </div>\n",
              "  </div>\n",
              "  "
            ]
          },
          "metadata": {},
          "execution_count": 23
        }
      ]
    },
    {
      "cell_type": "markdown",
      "source": [
        "Check again for missing values and data types."
      ],
      "metadata": {
        "id": "csKGttptec6o"
      }
    },
    {
      "cell_type": "code",
      "source": [
        "bank.info()"
      ],
      "metadata": {
        "colab": {
          "base_uri": "https://localhost:8080/"
        },
        "id": "zxCe6d7WeiWG",
        "outputId": "7d61e238-a96c-43f0-e4ae-ea537b0cd4ad"
      },
      "execution_count": null,
      "outputs": [
        {
          "output_type": "stream",
          "name": "stdout",
          "text": [
            "<class 'pandas.core.frame.DataFrame'>\n",
            "RangeIndex: 45211 entries, 0 to 45210\n",
            "Data columns (total 43 columns):\n",
            " #   Column               Non-Null Count  Dtype\n",
            "---  ------               --------------  -----\n",
            " 0   age                  45211 non-null  int64\n",
            " 1   default              45211 non-null  int64\n",
            " 2   balance              45211 non-null  int64\n",
            " 3   housing              45211 non-null  int64\n",
            " 4   loan                 45211 non-null  int64\n",
            " 5   day                  45211 non-null  int64\n",
            " 6   duration             45211 non-null  int64\n",
            " 7   campaign             45211 non-null  int64\n",
            " 8   pdays                45211 non-null  int64\n",
            " 9   previous             45211 non-null  int64\n",
            " 10  y                    45211 non-null  int64\n",
            " 11  job_blue-collar      45211 non-null  uint8\n",
            " 12  job_entrepreneur     45211 non-null  uint8\n",
            " 13  job_housemaid        45211 non-null  uint8\n",
            " 14  job_management       45211 non-null  uint8\n",
            " 15  job_retired          45211 non-null  uint8\n",
            " 16  job_self-employed    45211 non-null  uint8\n",
            " 17  job_services         45211 non-null  uint8\n",
            " 18  job_student          45211 non-null  uint8\n",
            " 19  job_technician       45211 non-null  uint8\n",
            " 20  job_unemployed       45211 non-null  uint8\n",
            " 21  job_unknown          45211 non-null  uint8\n",
            " 22  marital_married      45211 non-null  uint8\n",
            " 23  marital_single       45211 non-null  uint8\n",
            " 24  education_secondary  45211 non-null  uint8\n",
            " 25  education_tertiary   45211 non-null  uint8\n",
            " 26  education_unknown    45211 non-null  uint8\n",
            " 27  contact_telephone    45211 non-null  uint8\n",
            " 28  contact_unknown      45211 non-null  uint8\n",
            " 29  month_aug            45211 non-null  uint8\n",
            " 30  month_dec            45211 non-null  uint8\n",
            " 31  month_feb            45211 non-null  uint8\n",
            " 32  month_jan            45211 non-null  uint8\n",
            " 33  month_jul            45211 non-null  uint8\n",
            " 34  month_jun            45211 non-null  uint8\n",
            " 35  month_mar            45211 non-null  uint8\n",
            " 36  month_may            45211 non-null  uint8\n",
            " 37  month_nov            45211 non-null  uint8\n",
            " 38  month_oct            45211 non-null  uint8\n",
            " 39  month_sep            45211 non-null  uint8\n",
            " 40  poutcome_other       45211 non-null  uint8\n",
            " 41  poutcome_success     45211 non-null  uint8\n",
            " 42  poutcome_unknown     45211 non-null  uint8\n",
            "dtypes: int64(11), uint8(32)\n",
            "memory usage: 5.2 MB\n"
          ]
        }
      ]
    },
    {
      "cell_type": "markdown",
      "source": [
        "Notice that all variables have 45,211 non-null values and that all of the data types are numerical. (watch out for `object` data types)"
      ],
      "metadata": {
        "id": "2WBTWt0CewFd"
      }
    },
    {
      "cell_type": "markdown",
      "source": [
        "### Separate the feature variables from the target variable."
      ],
      "metadata": {
        "id": "U7gt_drXsxAm"
      }
    },
    {
      "cell_type": "code",
      "source": [
        "#Separating target variable and other variables\n",
        "y= bank['y']\n",
        "X= bank.drop(columns = ['y'])"
      ],
      "metadata": {
        "id": "IxghaEkms796"
      },
      "execution_count": null,
      "outputs": []
    },
    {
      "cell_type": "markdown",
      "source": [
        "### Scaling the data\n",
        "\n",
        "The independent variables in this dataset have different scales. When features have differing scales from each other, there is a chance that a higher weightage will be given to features which have a higher magnitude, and they will dominate over other features whose magnitude changes may be smaller but whose percentage changes may be just as significant or even larger. This will impact the performance of our machine learning algorithm, and we do not want our algorithm to be biased towards one feature.\n",
        "\n",
        "The solution to this issue is **Feature Scaling**, i.e. scaling the dataset so as to give every transformed variable a comparable scale.\n",
        "\n",
        "In this problem, we will use the **Standard Scaler** method, which centers and scales the dataset using the Z-Score.\n",
        "\n",
        "It standardizes features by subtracting the mean and scaling it to have unit variance.\n",
        "\n",
        "The standard score of a sample x is calculated as:\n",
        "\n",
        "**z = (x - u) / s**\n",
        "\n",
        "where **u** is the mean of the training samples (zero) and **s** is the standard deviation of the training samples."
      ],
      "metadata": {
        "id": "mvA_B_wutKau"
      }
    },
    {
      "cell_type": "markdown",
      "source": [
        "### Run the standard scalar to transform the values in the collection of feature values.\n",
        "```\n",
        "#Scaling the data\n",
        "sc=StandardScaler() # imported with the libraries, we give it an alias here\n",
        "\n",
        "X_scaled=sc.fit_transform(X)\n",
        "X_scaled=pd.DataFrame(X_scaled, columns=X.columns)\n",
        "```"
      ],
      "metadata": {
        "id": "qqPIb4Z3xwdi"
      }
    },
    {
      "cell_type": "code",
      "source": [
        "#Scaling the data\n",
        "sc=StandardScaler() # imported with the libraries, we give it an alias here\n",
        "X_scaled=sc.fit_transform(X)\n",
        "X_scaled=pd.DataFrame(X_scaled, columns=X.columns)"
      ],
      "metadata": {
        "id": "Ph_ozCqntTye"
      },
      "execution_count": null,
      "outputs": []
    },
    {
      "cell_type": "markdown",
      "source": [
        "### Splitting the data into 70% train and 30% test set"
      ],
      "metadata": {
        "id": "616B0McAwyb6"
      }
    },
    {
      "cell_type": "markdown",
      "source": [
        "Some classification problems can exhibit a large imbalance in the distribution of the target classes: for instance there could be several times more negative samples than positive samples. In such cases it is recommended to use the **stratified sampling** technique to ensure that relative class frequencies are approximately preserved in each train and validation fold."
      ],
      "metadata": {
        "id": "U7qsqU5Szscz"
      }
    },
    {
      "cell_type": "code",
      "source": [
        "#splitting the data\n",
        "X_train,X_test,y_train,y_test=train_test_split(X_scaled,y,test_size=0.3,random_state=1,stratify=y)"
      ],
      "metadata": {
        "id": "lXMabgNqzpRs"
      },
      "execution_count": null,
      "outputs": []
    },
    {
      "cell_type": "markdown",
      "source": [
        "### Model evaluation criterion\n",
        "\n",
        "#### The model can make two types of wrong predictions:\n",
        "1. Predicting an customer will subscribe and the don't\n",
        "2. Predicting a customer will not subscribe and they do."
      ],
      "metadata": {
        "id": "7M2wRpuQ14yL"
      }
    },
    {
      "cell_type": "markdown",
      "source": [
        "Also, let's create a function to calculate and print the classification report and confusion matrix so that we don't have to rewrite the same code repeatedly for each model."
      ],
      "metadata": {
        "id": "5R5Fr8l12tKf"
      }
    },
    {
      "cell_type": "code",
      "source": [
        "#creating metric function\n",
        "def metrics_score(actual, predicted):\n",
        "    print(classification_report(actual, predicted))\n",
        "    cm = confusion_matrix(actual, predicted)\n",
        "    plt.figure(figsize=(8,5))\n",
        "    sns.heatmap(cm, annot=True,  fmt='.2f', xticklabels=['Not Subscribe', 'Subscribe'], yticklabels=['Not Subscribe', 'Subscribe'])\n",
        "    plt.ylabel('Actual')\n",
        "    plt.xlabel('Predicted')\n",
        "    plt.show()"
      ],
      "metadata": {
        "id": "Etq0aPc32uD8"
      },
      "execution_count": null,
      "outputs": []
    },
    {
      "cell_type": "markdown",
      "source": [
        "### Logistic Regression Model"
      ],
      "metadata": {
        "id": "ymXWp7zV2ziW"
      }
    },
    {
      "cell_type": "markdown",
      "source": [
        "- Logistic Regression is a supervised learning algorithm which is used for **binary classification problems** i.e. where the dependent variable is categorical and has only two possible values. In logistic regression, we use the sigmoid function to calculate the probability of an event y, given some features x as:\n",
        "\n",
        "                                          P(y)=1/exp(1 + exp(-x))"
      ],
      "metadata": {
        "id": "O_rEafgE21iD"
      }
    },
    {
      "cell_type": "code",
      "source": [
        "#fitting logistic regression model\n",
        "lg=LogisticRegression()\n",
        "lg.fit(X_train,y_train)"
      ],
      "metadata": {
        "colab": {
          "base_uri": "https://localhost:8080/"
        },
        "id": "hn9B6H2Q244F",
        "outputId": "0669ea74-e355-4915-e4c3-56af1d1b3e4a"
      },
      "execution_count": null,
      "outputs": [
        {
          "output_type": "execute_result",
          "data": {
            "text/plain": [
              "LogisticRegression()"
            ]
          },
          "metadata": {},
          "execution_count": 29
        }
      ]
    },
    {
      "cell_type": "markdown",
      "source": [
        "**Checking model performance**"
      ],
      "metadata": {
        "id": "-2X5FQsP27rH"
      }
    },
    {
      "cell_type": "code",
      "source": [
        "#checking the performance on the training data\n",
        "y_pred_train = lg.predict(X_train)\n",
        "metrics_score(y_train, y_pred_train)"
      ],
      "metadata": {
        "colab": {
          "base_uri": "https://localhost:8080/",
          "height": 490
        },
        "id": "08RzF6Jv29A9",
        "outputId": "7b399605-404b-4506-e443-16f28e04c683"
      },
      "execution_count": null,
      "outputs": [
        {
          "output_type": "stream",
          "name": "stdout",
          "text": [
            "              precision    recall  f1-score   support\n",
            "\n",
            "           0       0.92      0.98      0.95     27945\n",
            "           1       0.66      0.36      0.46      3702\n",
            "\n",
            "    accuracy                           0.90     31647\n",
            "   macro avg       0.79      0.67      0.70     31647\n",
            "weighted avg       0.89      0.90      0.89     31647\n",
            "\n"
          ]
        },
        {
          "output_type": "display_data",
          "data": {
            "text/plain": [
              "<Figure size 576x360 with 2 Axes>"
            ],
            "image/png": "[encoded data removed]"
          },
          "metadata": {
            "needs_background": "light"
          }
        }
      ]
    },
    {
      "cell_type": "code",
      "source": [
        "#checking the performance on the test dataset\n",
        "y_pred_test = lg.predict(X_test)\n",
        "metrics_score(y_test, y_pred_test)"
      ],
      "metadata": {
        "colab": {
          "base_uri": "https://localhost:8080/",
          "height": 490
        },
        "id": "FikqAda23GZR",
        "outputId": "6e443091-db4d-44bc-fb26-58a02a63a97c"
      },
      "execution_count": null,
      "outputs": [
        {
          "output_type": "stream",
          "name": "stdout",
          "text": [
            "              precision    recall  f1-score   support\n",
            "\n",
            "           0       0.92      0.97      0.95     11977\n",
            "           1       0.63      0.34      0.44      1587\n",
            "\n",
            "    accuracy                           0.90     13564\n",
            "   macro avg       0.78      0.66      0.69     13564\n",
            "weighted avg       0.88      0.90      0.89     13564\n",
            "\n"
          ]
        },
        {
          "output_type": "display_data",
          "data": {
            "text/plain": [
              "<Figure size 576x360 with 2 Axes>"
            ],
            "image/png": "[encoded data removed]"
          },
          "metadata": {
            "needs_background": "light"
          }
        }
      ]
    },
    {
      "cell_type": "markdown",
      "source": [
        "#### Observations\n",
        "- The accuracy on the training and testing sets is close to 90% suggesting good overall performance and good model generalization\n",
        "- The Recall is quite low while the Precision is somewhat higher."
      ],
      "metadata": {
        "id": "i3SIxFSY27nm"
      }
    },
    {
      "cell_type": "markdown",
      "source": [
        "**Let's check the coefficients and find which variables are leading to subscription and which can help to increase subscription**"
      ],
      "metadata": {
        "id": "jvIcXovJ3Kzp"
      }
    },
    {
      "cell_type": "markdown",
      "source": [
        "The coefficients of the logistic regression model give us the log of odds, which is hard to interpret in the real world. We can convert the log of odds into real odds by taking its exponential."
      ],
      "metadata": {
        "id": "oDZrjZzf34Wb"
      }
    },
    {
      "cell_type": "code",
      "source": [
        "#printing the coefficients of logistic regression\n",
        "cols=X.columns\n",
        "\n",
        "coef_lg=lg.coef_\n",
        "\n",
        "pd.DataFrame(coef_lg,columns=cols).T.sort_values(by=0,ascending=False)\n",
        "\n",
        "# Convert the log odds to simple odds\n",
        "odds = np.exp(lg.coef_[0]) #finding the odds\n",
        "\n",
        "# adding the odds to a dataframe and sorting the values\n",
        "pd.DataFrame(odds, X_train.columns, columns=['odds']).sort_values(by='odds', ascending=False)"
      ],
      "metadata": {
        "colab": {
          "base_uri": "https://localhost:8080/",
          "height": 1000
        },
        "id": "cbzutuBj3ZQW",
        "outputId": "64dda00e-042b-4e99-928a-2b6efba56c7c"
      },
      "execution_count": null,
      "outputs": [
        {
          "output_type": "execute_result",
          "data": {
            "text/plain": [
              "                         odds\n",
              "duration             2.996988\n",
              "poutcome_success     1.533149\n",
              "education_tertiary   1.191026\n",
              "month_mar            1.178660\n",
              "month_jun            1.169647\n",
              "month_sep            1.117089\n",
              "month_oct            1.113323\n",
              "education_secondary  1.108608\n",
              "job_retired          1.095348\n",
              "day                  1.069098\n",
              "job_student          1.066859\n",
              "marital_single       1.053341\n",
              "education_unknown    1.050124\n",
              "poutcome_other       1.049856\n",
              "pdays                1.047993\n",
              "month_dec            1.045461\n",
              "balance              1.032879\n",
              "poutcome_unknown     1.020105\n",
              "previous             1.011249\n",
              "default              0.988193\n",
              "job_unemployed       0.976535\n",
              "month_feb            0.975194\n",
              "job_unknown          0.974736\n",
              "job_management       0.973141\n",
              "age                  0.972114\n",
              "job_technician       0.958112\n",
              "job_entrepreneur     0.950568\n",
              "job_self-employed    0.949877\n",
              "contact_telephone    0.947382\n",
              "marital_married      0.940259\n",
              "job_services         0.926784\n",
              "job_housemaid        0.926379\n",
              "job_blue-collar      0.902197\n",
              "loan                 0.859200\n",
              "month_may            0.837931\n",
              "month_jan            0.808827\n",
              "month_nov            0.801741\n",
              "campaign             0.784500\n",
              "month_aug            0.781877\n",
              "month_jul            0.730648\n",
              "housing              0.713770\n",
              "contact_unknown      0.486093"
            ],
            "text/html": [
              "\n",
              "  <div id=\"df-34908d3f-4103-49f7-bb89-4695c462618b\">\n",
              "    <div class=\"colab-df-container\">\n",
              "      <div>\n",
              "<style scoped>\n",
              "    .dataframe tbody tr th:only-of-type {\n",
              "        vertical-align: middle;\n",
              "    }\n",
              "\n",
              "    .dataframe tbody tr th {\n",
              "        vertical-align: top;\n",
              "    }\n",
              "\n",
              "    .dataframe thead th {\n",
              "        text-align: right;\n",
              "    }\n",
              "</style>\n",
              "<table border=\"1\" class=\"dataframe\">\n",
              "  <thead>\n",
              "    <tr style=\"text-align: right;\">\n",
              "      <th></th>\n",
              "      <th>odds</th>\n",
              "    </tr>\n",
              "  </thead>\n",
              "  <tbody>\n",
              "    <tr>\n",
              "      <th>duration</th>\n",
              "      <td>2.996988</td>\n",
              "    </tr>\n",
              "    <tr>\n",
              "      <th>poutcome_success</th>\n",
              "      <td>1.533149</td>\n",
              "    </tr>\n",
              "    <tr>\n",
              "      <th>education_tertiary</th>\n",
              "      <td>1.191026</td>\n",
              "    </tr>\n",
              "    <tr>\n",
              "      <th>month_mar</th>\n",
              "      <td>1.178660</td>\n",
              "    </tr>\n",
              "    <tr>\n",
              "      <th>month_jun</th>\n",
              "      <td>1.169647</td>\n",
              "    </tr>\n",
              "    <tr>\n",
              "      <th>month_sep</th>\n",
              "      <td>1.117089</td>\n",
              "    </tr>\n",
              "    <tr>\n",
              "      <th>month_oct</th>\n",
              "      <td>1.113323</td>\n",
              "    </tr>\n",
              "    <tr>\n",
              "      <th>education_secondary</th>\n",
              "      <td>1.108608</td>\n",
              "    </tr>\n",
              "    <tr>\n",
              "      <th>job_retired</th>\n",
              "      <td>1.095348</td>\n",
              "    </tr>\n",
              "    <tr>\n",
              "      <th>day</th>\n",
              "      <td>1.069098</td>\n",
              "    </tr>\n",
              "    <tr>\n",
              "      <th>job_student</th>\n",
              "      <td>1.066859</td>\n",
              "    </tr>\n",
              "    <tr>\n",
              "      <th>marital_single</th>\n",
              "      <td>1.053341</td>\n",
              "    </tr>\n",
              "    <tr>\n",
              "      <th>education_unknown</th>\n",
              "      <td>1.050124</td>\n",
              "    </tr>\n",
              "    <tr>\n",
              "      <th>poutcome_other</th>\n",
              "      <td>1.049856</td>\n",
              "    </tr>\n",
              "    <tr>\n",
              "      <th>pdays</th>\n",
              "      <td>1.047993</td>\n",
              "    </tr>\n",
              "    <tr>\n",
              "      <th>month_dec</th>\n",
              "      <td>1.045461</td>\n",
              "    </tr>\n",
              "    <tr>\n",
              "      <th>balance</th>\n",
              "      <td>1.032879</td>\n",
              "    </tr>\n",
              "    <tr>\n",
              "      <th>poutcome_unknown</th>\n",
              "      <td>1.020105</td>\n",
              "    </tr>\n",
              "    <tr>\n",
              "      <th>previous</th>\n",
              "      <td>1.011249</td>\n",
              "    </tr>\n",
              "    <tr>\n",
              "      <th>default</th>\n",
              "      <td>0.988193</td>\n",
              "    </tr>\n",
              "    <tr>\n",
              "      <th>job_unemployed</th>\n",
              "      <td>0.976535</td>\n",
              "    </tr>\n",
              "    <tr>\n",
              "      <th>month_feb</th>\n",
              "      <td>0.975194</td>\n",
              "    </tr>\n",
              "    <tr>\n",
              "      <th>job_unknown</th>\n",
              "      <td>0.974736</td>\n",
              "    </tr>\n",
              "    <tr>\n",
              "      <th>job_management</th>\n",
              "      <td>0.973141</td>\n",
              "    </tr>\n",
              "    <tr>\n",
              "      <th>age</th>\n",
              "      <td>0.972114</td>\n",
              "    </tr>\n",
              "    <tr>\n",
              "      <th>job_technician</th>\n",
              "      <td>0.958112</td>\n",
              "    </tr>\n",
              "    <tr>\n",
              "      <th>job_entrepreneur</th>\n",
              "      <td>0.950568</td>\n",
              "    </tr>\n",
              "    <tr>\n",
              "      <th>job_self-employed</th>\n",
              "      <td>0.949877</td>\n",
              "    </tr>\n",
              "    <tr>\n",
              "      <th>contact_telephone</th>\n",
              "      <td>0.947382</td>\n",
              "    </tr>\n",
              "    <tr>\n",
              "      <th>marital_married</th>\n",
              "      <td>0.940259</td>\n",
              "    </tr>\n",
              "    <tr>\n",
              "      <th>job_services</th>\n",
              "      <td>0.926784</td>\n",
              "    </tr>\n",
              "    <tr>\n",
              "      <th>job_housemaid</th>\n",
              "      <td>0.926379</td>\n",
              "    </tr>\n",
              "    <tr>\n",
              "      <th>job_blue-collar</th>\n",
              "      <td>0.902197</td>\n",
              "    </tr>\n",
              "    <tr>\n",
              "      <th>loan</th>\n",
              "      <td>0.859200</td>\n",
              "    </tr>\n",
              "    <tr>\n",
              "      <th>month_may</th>\n",
              "      <td>0.837931</td>\n",
              "    </tr>\n",
              "    <tr>\n",
              "      <th>month_jan</th>\n",
              "      <td>0.808827</td>\n",
              "    </tr>\n",
              "    <tr>\n",
              "      <th>month_nov</th>\n",
              "      <td>0.801741</td>\n",
              "    </tr>\n",
              "    <tr>\n",
              "      <th>campaign</th>\n",
              "      <td>0.784500</td>\n",
              "    </tr>\n",
              "    <tr>\n",
              "      <th>month_aug</th>\n",
              "      <td>0.781877</td>\n",
              "    </tr>\n",
              "    <tr>\n",
              "      <th>month_jul</th>\n",
              "      <td>0.730648</td>\n",
              "    </tr>\n",
              "    <tr>\n",
              "      <th>housing</th>\n",
              "      <td>0.713770</td>\n",
              "    </tr>\n",
              "    <tr>\n",
              "      <th>contact_unknown</th>\n",
              "      <td>0.486093</td>\n",
              "    </tr>\n",
              "  </tbody>\n",
              "</table>\n",
              "</div>\n",
              "      <button class=\"colab-df-convert\" onclick=\"convertToInteractive('df-34908d3f-4103-49f7-bb89-4695c462618b')\"\n",
              "              title=\"Convert this dataframe to an interactive table.\"\n",
              "              style=\"display:none;\">\n",
              "        \n",
              "  <svg xmlns=\"http://www.w3.org/2000/svg\" height=\"24px\"viewBox=\"0 0 24 24\"\n",
              "       width=\"24px\">\n",
              "    <path d=\"M0 0h24v24H0V0z\" fill=\"none\"/>\n",
              "    <path d=\"M18.56 5.44l.94 2.06.94-2.06 2.06-.94-2.06-.94-.94-2.06-.94 2.06-2.06.94zm-11 1L8.5 8.5l.94-2.06 2.06-.94-2.06-.94L8.5 2.5l-.94 2.06-2.06.94zm10 10l.94 2.06.94-2.06 2.06-.94-2.06-.94-.94-2.06-.94 2.06-2.06.94z\"/><path d=\"M17.41 7.96l-1.37-1.37c-.4-.4-.92-.59-1.43-.59-.52 0-1.04.2-1.43.59L10.3 9.45l-7.72 7.72c-.78.78-.78 2.05 0 2.83L4 21.41c.39.39.9.59 1.41.59.51 0 1.02-.2 1.41-.59l7.78-7.78 2.81-2.81c.8-.78.8-2.07 0-2.86zM5.41 20L4 18.59l7.72-7.72 1.47 1.35L5.41 20z\"/>\n",
              "  </svg>\n",
              "      </button>\n",
              "      \n",
              "  <style>\n",
              "    .colab-df-container {\n",
              "      display:flex;\n",
              "      flex-wrap:wrap;\n",
              "      gap: 12px;\n",
              "    }\n",
              "\n",
              "    .colab-df-convert {\n",
              "      background-color: #E8F0FE;\n",
              "      border: none;\n",
              "      border-radius: 50%;\n",
              "      cursor: pointer;\n",
              "      display: none;\n",
              "      fill: #1967D2;\n",
              "      height: 32px;\n",
              "      padding: 0 0 0 0;\n",
              "      width: 32px;\n",
              "    }\n",
              "\n",
              "    .colab-df-convert:hover {\n",
              "      background-color: #E2EBFA;\n",
              "      box-shadow: 0px 1px 2px rgba(60, 64, 67, 0.3), 0px 1px 3px 1px rgba(60, 64, 67, 0.15);\n",
              "      fill: #174EA6;\n",
              "    }\n",
              "\n",
              "    [theme=dark] .colab-df-convert {\n",
              "      background-color: #3B4455;\n",
              "      fill: #D2E3FC;\n",
              "    }\n",
              "\n",
              "    [theme=dark] .colab-df-convert:hover {\n",
              "      background-color: #434B5C;\n",
              "      box-shadow: 0px 1px 3px 1px rgba(0, 0, 0, 0.15);\n",
              "      filter: drop-shadow(0px 1px 2px rgba(0, 0, 0, 0.3));\n",
              "      fill: #FFFFFF;\n",
              "    }\n",
              "  </style>\n",
              "\n",
              "      <script>\n",
              "        const buttonEl =\n",
              "          document.querySelector('#df-34908d3f-4103-49f7-bb89-4695c462618b button.colab-df-convert');\n",
              "        buttonEl.style.display =\n",
              "          google.colab.kernel.accessAllowed ? 'block' : 'none';\n",
              "\n",
              "        async function convertToInteractive(key) {\n",
              "          const element = document.querySelector('#df-34908d3f-4103-49f7-bb89-4695c462618b');\n",
              "          const dataTable =\n",
              "            await google.colab.kernel.invokeFunction('convertToInteractive',\n",
              "                                                     [key], {});\n",
              "          if (!dataTable) return;\n",
              "\n",
              "          const docLinkHtml = 'Like what you see? Visit the ' +\n",
              "            '<a target=\"_blank\" href=https://colab.research.google.com/notebooks/data_table.ipynb>data table notebook</a>'\n",
              "            + ' to learn more about interactive tables.';\n",
              "          element.innerHTML = '';\n",
              "          dataTable['output_type'] = 'display_data';\n",
              "          await google.colab.output.renderOutput(dataTable, element);\n",
              "          const docLink = document.createElement('div');\n",
              "          docLink.innerHTML = docLinkHtml;\n",
              "          element.appendChild(docLink);\n",
              "        }\n",
              "      </script>\n",
              "    </div>\n",
              "  </div>\n",
              "  "
            ]
          },
          "metadata": {},
          "execution_count": 32
        }
      ]
    },
    {
      "cell_type": "markdown",
      "source": [
        "#### Observations:\n",
        "Features with notable positive affect on the subscription rate.\n",
        "\n",
        "- duration\n",
        "- poutcome_success\n",
        "- education_tertiary\n",
        "- month_mar\n",
        "- month_jun\n",
        "- month_sep\n",
        "- month_oct\n",
        "- education_secondary\n",
        "\n",
        "In general, longer duration of contact with a customer is associated with an increase in the probability that a custmer will subscribe. If the previous outcome of targeting a customer was successful, there is an increased probability of success on the next campaign."
      ],
      "metadata": {
        "id": "S7W1qL653iNX"
      }
    },
    {
      "cell_type": "markdown",
      "source": [
        "### Precision-Recall Curve for Logistic Regression\n",
        "------\n",
        "A technique that can be used to balance the precision and recall of the model relies on the precision-recall curve. This helps the analyst determine an ideal probability threshold for classifying customers as subscribers based on the model."
      ],
      "metadata": {
        "id": "6bxrfRZQCNiF"
      }
    },
    {
      "cell_type": "code",
      "source": [
        "y_scores_lg=lg.predict_proba(X_train) #predict_proba gives the probability of each observation belonging to each class\n",
        "\n",
        "\n",
        "precisions_lg, recalls_lg, thresholds_lg = precision_recall_curve(y_train, y_scores_lg[:,1])\n",
        "\n",
        "#Plot values of precisions, recalls, and thresholds\n",
        "plt.figure(figsize=(10,7))\n",
        "plt.plot(thresholds_lg, precisions_lg[:-1], 'b--', label='precision')\n",
        "plt.plot(thresholds_lg, recalls_lg[:-1], 'g--', label = 'recall')\n",
        "plt.xlabel('Threshold')\n",
        "plt.legend(loc='upper left')\n",
        "plt.ylim([0,1])\n",
        "plt.show()"
      ],
      "metadata": {
        "colab": {
          "base_uri": "https://localhost:8080/",
          "height": 446
        },
        "id": "z7kkhGJGCVzA",
        "outputId": "033a640e-8a33-4e0f-ec47-e1de80822056"
      },
      "execution_count": null,
      "outputs": [
        {
          "output_type": "display_data",
          "data": {
            "text/plain": [
              "<Figure size 720x504 with 1 Axes>"
            ],
            "image/png": "[encoded data removed]"
          },
          "metadata": {
            "needs_background": "light"
          }
        }
      ]
    },
    {
      "cell_type": "markdown",
      "source": [
        "### **Exercise 1: Observations based on the precision-recall curve**\n",
        "We can see that precision and recall are balanced for a threshold of about ~**0.30**.\n",
        "**what is the meaning of the 0.30 threshold?**\n",
        "\n",
        "- **A threshold of 0.30 means that if the probability score for an instance is greater than 0.30, you classify it as positive, and if it's less than or equal to 0.30, you classify it as negative.**\n",
        "\n"
      ],
      "metadata": {
        "id": "UyhQlHkjCgYX"
      }
    },
    {
      "cell_type": "markdown",
      "source": [
        "**Let's find out the performance of the model at this threshold**"
      ],
      "metadata": {
        "id": "rncwkfpUkO4B"
      }
    },
    {
      "cell_type": "code",
      "source": [
        "optimal_threshold1=.30\n",
        "y_pred_train = lg.predict_proba(X_train)\n",
        "metrics_score(y_train, y_pred_train[:,1]>optimal_threshold1)"
      ],
      "metadata": {
        "colab": {
          "base_uri": "https://localhost:8080/",
          "height": 490
        },
        "id": "hOCB4uJXCi2X",
        "outputId": "d0ca32f0-4c1a-4631-e5ed-615d00b1a41a"
      },
      "execution_count": null,
      "outputs": [
        {
          "output_type": "stream",
          "name": "stdout",
          "text": [
            "              precision    recall  f1-score   support\n",
            "\n",
            "           0       0.94      0.95      0.94     27945\n",
            "           1       0.58      0.54      0.56      3702\n",
            "\n",
            "    accuracy                           0.90     31647\n",
            "   macro avg       0.76      0.75      0.75     31647\n",
            "weighted avg       0.90      0.90      0.90     31647\n",
            "\n"
          ]
        },
        {
          "output_type": "display_data",
          "data": {
            "text/plain": [
              "<Figure size 576x360 with 2 Axes>"
            ],
            "image/png": "[encoded data removed]"
          },
          "metadata": {
            "needs_background": "light"
          }
        }
      ]
    },
    {
      "cell_type": "markdown",
      "source": [
        "- **The model performance has improved. The recall has increased significantly for class 1.**\n",
        "- Let's check the performance on the test data."
      ],
      "metadata": {
        "id": "9pHNhkvzCqj-"
      }
    },
    {
      "cell_type": "code",
      "source": [
        "optimal_threshold1=.30\n",
        "y_pred_test = lg.predict_proba(X_test)\n",
        "metrics_score(y_test, y_pred_test[:,1]>optimal_threshold1)"
      ],
      "metadata": {
        "colab": {
          "base_uri": "https://localhost:8080/",
          "height": 490
        },
        "id": "_JGmMEwyCrMl",
        "outputId": "bf8075f2-6072-4e4a-c4a8-887903a3ed08"
      },
      "execution_count": null,
      "outputs": [
        {
          "output_type": "stream",
          "name": "stdout",
          "text": [
            "              precision    recall  f1-score   support\n",
            "\n",
            "           0       0.94      0.95      0.94     11977\n",
            "           1       0.58      0.54      0.56      1587\n",
            "\n",
            "    accuracy                           0.90     13564\n",
            "   macro avg       0.76      0.75      0.75     13564\n",
            "weighted avg       0.90      0.90      0.90     13564\n",
            "\n"
          ]
        },
        {
          "output_type": "display_data",
          "data": {
            "text/plain": [
              "<Figure size 576x360 with 2 Axes>"
            ],
            "image/png": "[encoded data removed]"
          },
          "metadata": {
            "needs_background": "light"
          }
        }
      ]
    },
    {
      "cell_type": "markdown",
      "source": [
        "### **Exercise 2: Observations based on the model at threshold 0.30**\n",
        "- **At a threshold of 0.30, the model achieves high precision (0.94) and recall (0.95) for class 0, indicating accurate predictions and capturing a majority of instances correctly.**\n",
        "- **However, for class 1, precision (0.58) and recall (0.54) are lower, suggesting the model's difficulty in accurately identifying instances of this class, potentially indicating a class imbalance issue.**\n",
        "- **With a cutoff threshold of 0.3, the model demonstrates improved precision and recall compared to previous evaluations.**"
      ],
      "metadata": {
        "id": "KRNlobrmC62I"
      }
    },
    {
      "cell_type": "markdown",
      "source": [
        "### Practical Model Evaluation: Cost, Profit, and Revenue\n",
        "------\n",
        "- Cost of targeting a customer: $10.   \n",
        "\n",
        "- Profit if a customer subscribes to a term deposit: $100\n",
        "\n",
        "We can use this information in combination with what we know about the total number of customers and the number of those customers who have subscribed to a term deposit in the past."
      ],
      "metadata": {
        "id": "E0NvQXGWTd4q"
      }
    },
    {
      "cell_type": "code",
      "source": [
        "#Calculating “Average profit per customer” for reaching out to all the customers in training data\n",
        "print(\"The number of customers to be reached out to are:\",len(y_train))\n",
        "\n",
        "# Determine the number of subscribers, count all records where class = 1\n",
        "print(\"Number of responders are:\",y_train.value_counts()[1],\"\\n\")\n",
        "\n",
        "# Determine the total cost of contacting all customers if cost per custmer is $10\n",
        "print(\"Cost of reaching out to customers: $\",len(y_train)*10)\n",
        "\n",
        "# Determine the total revenue if each subscriber earns the company $100\n",
        "print(\"Revenue: $\",y_train.value_counts()[1]*100)\n",
        "\n",
        "# Determin the profit by subtracting the cost from the revenue\n",
        "print(\"Profit (revnue - cost):$\",y_train.value_counts()[1]*100-len(y_train)*10)\n",
        "\n",
        "#without any model,company would be at a loss"
      ],
      "metadata": {
        "colab": {
          "base_uri": "https://localhost:8080/"
        },
        "id": "gq8IOtvTC3-N",
        "outputId": "6adc818f-f779-45de-f60c-ce7f58978adc"
      },
      "execution_count": null,
      "outputs": [
        {
          "output_type": "stream",
          "name": "stdout",
          "text": [
            "The number of customers to be reached out to are: 31647\n",
            "Number of responders are: 3702 \n",
            "\n",
            "Cost of reaching out to customers: $ 316470\n",
            "Revenue: $ 370200\n",
            "Profit (revnue - cost):$ 53730\n"
          ]
        }
      ]
    },
    {
      "cell_type": "markdown",
      "source": [
        "### Exercise 3: Interpreting Cost and Profit\n",
        "The results above show the costs of reaching out to every customer. **Discuss the results from the perspective of the bank and suggest a course of action for improving the outcome of the marketing campaign.**\n",
        "    \n",
        "- **----**        \n"
      ],
      "metadata": {
        "id": "URGRkDl4peYy"
      }
    },
    {
      "cell_type": "markdown",
      "source": [
        "Next we perform a Logistic Regression on the training data using the predicted probability of a customer subscribing to calculate the Cost, Revenue, Profit and Return on Investment (ROI) for each probability value at an interval of 0.01.  \n",
        "    \n",
        "\\begin{align}\n",
        "    ROI = \\frac{Profit}{Cost}*100\n",
        "\\end{align}\n",
        "\n",
        "The function below takes “Actual outcome”, “Predicted probability of subscription”, “Cost per individual”, “Revenue per individual”, “Range of probabilities to check” as input."
      ],
      "metadata": {
        "id": "M0Nxo_0Eq5xy"
      }
    },
    {
      "cell_type": "code",
      "source": [
        "from sklearn.metrics import confusion_matrix\n",
        "def cost_funciton(y_Actual, y_Predicted, cost_per_individual,\n",
        "                  revenue_per_individual, low_threshold, high_threshold):\n",
        "    cost_function_output = pd.DataFrame()\n",
        "    for threshold in np.arange(low_threshold, high_threshold, 0.01):\n",
        "        confusion_out = confusion_matrix(y_Actual, np.where(y_Predicted>threshold,1,0))\n",
        "        target_populaion=round((confusion_out[1][1]+confusion_out[0][1])/len(y_Actual),4)\n",
        "        responders_in_target_populaiton=round(confusion_out[1][1]/(len(y_Actual)),4)\n",
        "        cost=(confusion_out[1][1]+confusion_out[0][1])*cost_per_individual\n",
        "        revenue=confusion_out[1][1]*revenue_per_individual\n",
        "        profit=revenue-cost\n",
        "        ROI=round(profit/cost*100,0)\n",
        "        cost_function_output=cost_function_output.append([[threshold,\n",
        "                                                           responders_in_target_populaiton*100,\n",
        "                                                           target_populaion*100,\n",
        "                                                           revenue,\n",
        "                                                           cost,\n",
        "                                                           profit,\n",
        "                                                           ROI]])\n",
        "    return cost_function_output"
      ],
      "metadata": {
        "id": "TVxTMfLKq6VM"
      },
      "execution_count": null,
      "outputs": []
    },
    {
      "cell_type": "markdown",
      "source": [
        "Below is a call for the above function with training data as input and using the estimated cost and revenue per individual as determined by the manager."
      ],
      "metadata": {
        "id": "UIuAcFHNrBy7"
      }
    },
    {
      "cell_type": "code",
      "source": [
        "logreg = LogisticRegression()\n",
        "logreg.fit(X_train, y_train)\n",
        "y_pred=logreg.predict_proba(X_train)[:,1]\n",
        "\n",
        "# Call the function with inputs y_train, y_pred, cost to target, profit per subscriber, low probability threshold, high probability threshold\n",
        "cost_function_output=cost_funciton(y_train, y_pred , 10, 100, 0.25, 0.75)\n",
        "my_columns = [\"Probability of Subscription\",  \"% Responders_in_target_populaiton\",\n",
        "              \"% Target_population\", \"Revenue\", \"Cost\",  \"Profit\",\"ROI\"]\n",
        "cost_function_output.columns = my_columns\n",
        "cost_function_output"
      ],
      "metadata": {
        "colab": {
          "base_uri": "https://localhost:8080/",
          "height": 1000
        },
        "id": "fgVSxwVmrCZI",
        "outputId": "7d0d83b4-0e26-459f-bdbd-c10d40bceb55"
      },
      "execution_count": null,
      "outputs": [
        {
          "output_type": "execute_result",
          "data": {
            "text/plain": [
              "   Probability of Subscription  % Responders_in_target_populaiton  \\\n",
              "0                         0.25                               7.07   \n",
              "0                         0.26                               6.93   \n",
              "0                         0.27                               6.82   \n",
              "0                         0.28                               6.65   \n",
              "0                         0.29                               6.47   \n",
              "0                         0.30                               6.36   \n",
              "0                         0.31                               6.22   \n",
              "0                         0.32                               6.10   \n",
              "0                         0.33                               5.99   \n",
              "0                         0.34                               5.88   \n",
              "0                         0.35                               5.76   \n",
              "0                         0.36                               5.62   \n",
              "0                         0.37                               5.51   \n",
              "0                         0.38                               5.41   \n",
              "0                         0.39                               5.32   \n",
              "0                         0.40                               5.22   \n",
              "0                         0.41                               5.11   \n",
              "0                         0.42                               4.98   \n",
              "0                         0.43                               4.86   \n",
              "0                         0.44                               4.71   \n",
              "0                         0.45                               4.60   \n",
              "0                         0.46                               4.50   \n",
              "0                         0.47                               4.40   \n",
              "0                         0.48                               4.31   \n",
              "0                         0.49                               4.24   \n",
              "0                         0.50                               4.16   \n",
              "0                         0.51                               4.06   \n",
              "0                         0.52                               3.95   \n",
              "0                         0.53                               3.89   \n",
              "0                         0.54                               3.78   \n",
              "0                         0.55                               3.70   \n",
              "0                         0.56                               3.61   \n",
              "0                         0.57                               3.51   \n",
              "0                         0.58                               3.42   \n",
              "0                         0.59                               3.34   \n",
              "0                         0.60                               3.24   \n",
              "0                         0.61                               3.18   \n",
              "0                         0.62                               3.11   \n",
              "0                         0.63                               3.06   \n",
              "0                         0.64                               2.98   \n",
              "0                         0.65                               2.88   \n",
              "0                         0.66                               2.79   \n",
              "0                         0.67                               2.72   \n",
              "0                         0.68                               2.67   \n",
              "0                         0.69                               2.58   \n",
              "0                         0.70                               2.50   \n",
              "0                         0.71                               2.39   \n",
              "0                         0.72                               2.34   \n",
              "0                         0.73                               2.31   \n",
              "0                         0.74                               2.24   \n",
              "\n",
              "   % Target_population  Revenue   Cost  Profit    ROI  \n",
              "0                12.95   223800  40980  182820  446.0  \n",
              "0                12.54   219300  39700  179600  452.0  \n",
              "0                12.17   215700  38520  177180  460.0  \n",
              "0                11.76   210400  37210  173190  465.0  \n",
              "0                11.33   204900  35850  169050  472.0  \n",
              "0                11.01   201200  34840  166360  477.0  \n",
              "0                10.66   196900  33740  163160  484.0  \n",
              "0                10.35   192900  32750  160150  489.0  \n",
              "0                10.07   189700  31880  157820  495.0  \n",
              "0                 9.83   186200  31100  155100  499.0  \n",
              "0                 9.54   182400  30190  152210  504.0  \n",
              "0                 9.26   178000  29300  148700  508.0  \n",
              "0                 9.01   174400  28520  145880  512.0  \n",
              "0                 8.73   171300  27640  143660  520.0  \n",
              "0                 8.53   168400  26980  141420  524.0  \n",
              "0                 8.29   165200  26240  138960  530.0  \n",
              "0                 8.07   161600  25530  136070  533.0  \n",
              "0                 7.85   157600  24850  132750  534.0  \n",
              "0                 7.61   153700  24090  129610  538.0  \n",
              "0                 7.38   148900  23370  125530  537.0  \n",
              "0                 7.19   145600  22760  122840  540.0  \n",
              "0                 7.01   142400  22170  120230  542.0  \n",
              "0                 6.80   139400  21530  117870  547.0  \n",
              "0                 6.62   136300  20940  115360  551.0  \n",
              "0                 6.46   134200  20430  113770  557.0  \n",
              "0                 6.30   131600  19950  111650  560.0  \n",
              "0                 6.16   128500  19510  108990  559.0  \n",
              "0                 5.98   125100  18930  106170  561.0  \n",
              "0                 5.87   123200  18580  104620  563.0  \n",
              "0                 5.70   119700  18030  101670  564.0  \n",
              "0                 5.50   117100  17420   99680  572.0  \n",
              "0                 5.36   114100  16950   97150  573.0  \n",
              "0                 5.21   111200  16490   94710  574.0  \n",
              "0                 5.05   108300  15990   92310  577.0  \n",
              "0                 4.91   105700  15540   90160  580.0  \n",
              "0                 4.76   102600  15050   87550  582.0  \n",
              "0                 4.63   100500  14640   85860  586.0  \n",
              "0                 4.52    98500  14320   84180  588.0  \n",
              "0                 4.40    96700  13930   82770  594.0  \n",
              "0                 4.29    94300  13570   80730  595.0  \n",
              "0                 4.13    91100  13060   78040  598.0  \n",
              "0                 4.01    88200  12690   75510  595.0  \n",
              "0                 3.91    86200  12360   73840  597.0  \n",
              "0                 3.81    84500  12060   72440  601.0  \n",
              "0                 3.67    81600  11630   69970  602.0  \n",
              "0                 3.55    79000  11250   67750  602.0  \n",
              "0                 3.40    75700  10760   64940  604.0  \n",
              "0                 3.31    74000  10490   63510  605.0  \n",
              "0                 3.25    73200  10300   62900  611.0  \n",
              "0                 3.13    70800   9890   60910  616.0  "
            ],
            "text/html": [
              "\n",
              "  <div id=\"df-90949a1f-704a-4cb0-8bd5-7f69860134fb\">\n",
              "    <div class=\"colab-df-container\">\n",
              "      <div>\n",
              "<style scoped>\n",
              "    .dataframe tbody tr th:only-of-type {\n",
              "        vertical-align: middle;\n",
              "    }\n",
              "\n",
              "    .dataframe tbody tr th {\n",
              "        vertical-align: top;\n",
              "    }\n",
              "\n",
              "    .dataframe thead th {\n",
              "        text-align: right;\n",
              "    }\n",
              "</style>\n",
              "<table border=\"1\" class=\"dataframe\">\n",
              "  <thead>\n",
              "    <tr style=\"text-align: right;\">\n",
              "      <th></th>\n",
              "      <th>Probability of Subscription</th>\n",
              "      <th>% Responders_in_target_populaiton</th>\n",
              "      <th>% Target_population</th>\n",
              "      <th>Revenue</th>\n",
              "      <th>Cost</th>\n",
              "      <th>Profit</th>\n",
              "      <th>ROI</th>\n",
              "    </tr>\n",
              "  </thead>\n",
              "  <tbody>\n",
              "    <tr>\n",
              "      <th>0</th>\n",
              "      <td>0.25</td>\n",
              "      <td>7.07</td>\n",
              "      <td>12.95</td>\n",
              "      <td>223800</td>\n",
              "      <td>40980</td>\n",
              "      <td>182820</td>\n",
              "      <td>446.0</td>\n",
              "    </tr>\n",
              "    <tr>\n",
              "      <th>0</th>\n",
              "      <td>0.26</td>\n",
              "      <td>6.93</td>\n",
              "      <td>12.54</td>\n",
              "      <td>219300</td>\n",
              "      <td>39700</td>\n",
              "      <td>179600</td>\n",
              "      <td>452.0</td>\n",
              "    </tr>\n",
              "    <tr>\n",
              "      <th>0</th>\n",
              "      <td>0.27</td>\n",
              "      <td>6.82</td>\n",
              "      <td>12.17</td>\n",
              "      <td>215700</td>\n",
              "      <td>38520</td>\n",
              "      <td>177180</td>\n",
              "      <td>460.0</td>\n",
              "    </tr>\n",
              "    <tr>\n",
              "      <th>0</th>\n",
              "      <td>0.28</td>\n",
              "      <td>6.65</td>\n",
              "      <td>11.76</td>\n",
              "      <td>210400</td>\n",
              "      <td>37210</td>\n",
              "      <td>173190</td>\n",
              "      <td>465.0</td>\n",
              "    </tr>\n",
              "    <tr>\n",
              "      <th>0</th>\n",
              "      <td>0.29</td>\n",
              "      <td>6.47</td>\n",
              "      <td>11.33</td>\n",
              "      <td>204900</td>\n",
              "      <td>35850</td>\n",
              "      <td>169050</td>\n",
              "      <td>472.0</td>\n",
              "    </tr>\n",
              "    <tr>\n",
              "      <th>0</th>\n",
              "      <td>0.30</td>\n",
              "      <td>6.36</td>\n",
              "      <td>11.01</td>\n",
              "      <td>201200</td>\n",
              "      <td>34840</td>\n",
              "      <td>166360</td>\n",
              "      <td>477.0</td>\n",
              "    </tr>\n",
              "    <tr>\n",
              "      <th>0</th>\n",
              "      <td>0.31</td>\n",
              "      <td>6.22</td>\n",
              "      <td>10.66</td>\n",
              "      <td>196900</td>\n",
              "      <td>33740</td>\n",
              "      <td>163160</td>\n",
              "      <td>484.0</td>\n",
              "    </tr>\n",
              "    <tr>\n",
              "      <th>0</th>\n",
              "      <td>0.32</td>\n",
              "      <td>6.10</td>\n",
              "      <td>10.35</td>\n",
              "      <td>192900</td>\n",
              "      <td>32750</td>\n",
              "      <td>160150</td>\n",
              "      <td>489.0</td>\n",
              "    </tr>\n",
              "    <tr>\n",
              "      <th>0</th>\n",
              "      <td>0.33</td>\n",
              "      <td>5.99</td>\n",
              "      <td>10.07</td>\n",
              "      <td>189700</td>\n",
              "      <td>31880</td>\n",
              "      <td>157820</td>\n",
              "      <td>495.0</td>\n",
              "    </tr>\n",
              "    <tr>\n",
              "      <th>0</th>\n",
              "      <td>0.34</td>\n",
              "      <td>5.88</td>\n",
              "      <td>9.83</td>\n",
              "      <td>186200</td>\n",
              "      <td>31100</td>\n",
              "      <td>155100</td>\n",
              "      <td>499.0</td>\n",
              "    </tr>\n",
              "    <tr>\n",
              "      <th>0</th>\n",
              "      <td>0.35</td>\n",
              "      <td>5.76</td>\n",
              "      <td>9.54</td>\n",
              "      <td>182400</td>\n",
              "      <td>30190</td>\n",
              "      <td>152210</td>\n",
              "      <td>504.0</td>\n",
              "    </tr>\n",
              "    <tr>\n",
              "      <th>0</th>\n",
              "      <td>0.36</td>\n",
              "      <td>5.62</td>\n",
              "      <td>9.26</td>\n",
              "      <td>178000</td>\n",
              "      <td>29300</td>\n",
              "      <td>148700</td>\n",
              "      <td>508.0</td>\n",
              "    </tr>\n",
              "    <tr>\n",
              "      <th>0</th>\n",
              "      <td>0.37</td>\n",
              "      <td>5.51</td>\n",
              "      <td>9.01</td>\n",
              "      <td>174400</td>\n",
              "      <td>28520</td>\n",
              "      <td>145880</td>\n",
              "      <td>512.0</td>\n",
              "    </tr>\n",
              "    <tr>\n",
              "      <th>0</th>\n",
              "      <td>0.38</td>\n",
              "      <td>5.41</td>\n",
              "      <td>8.73</td>\n",
              "      <td>171300</td>\n",
              "      <td>27640</td>\n",
              "      <td>143660</td>\n",
              "      <td>520.0</td>\n",
              "    </tr>\n",
              "    <tr>\n",
              "      <th>0</th>\n",
              "      <td>0.39</td>\n",
              "      <td>5.32</td>\n",
              "      <td>8.53</td>\n",
              "      <td>168400</td>\n",
              "      <td>26980</td>\n",
              "      <td>141420</td>\n",
              "      <td>524.0</td>\n",
              "    </tr>\n",
              "    <tr>\n",
              "      <th>0</th>\n",
              "      <td>0.40</td>\n",
              "      <td>5.22</td>\n",
              "      <td>8.29</td>\n",
              "      <td>165200</td>\n",
              "      <td>26240</td>\n",
              "      <td>138960</td>\n",
              "      <td>530.0</td>\n",
              "    </tr>\n",
              "    <tr>\n",
              "      <th>0</th>\n",
              "      <td>0.41</td>\n",
              "      <td>5.11</td>\n",
              "      <td>8.07</td>\n",
              "      <td>161600</td>\n",
              "      <td>25530</td>\n",
              "      <td>136070</td>\n",
              "      <td>533.0</td>\n",
              "    </tr>\n",
              "    <tr>\n",
              "      <th>0</th>\n",
              "      <td>0.42</td>\n",
              "      <td>4.98</td>\n",
              "      <td>7.85</td>\n",
              "      <td>157600</td>\n",
              "      <td>24850</td>\n",
              "      <td>132750</td>\n",
              "      <td>534.0</td>\n",
              "    </tr>\n",
              "    <tr>\n",
              "      <th>0</th>\n",
              "      <td>0.43</td>\n",
              "      <td>4.86</td>\n",
              "      <td>7.61</td>\n",
              "      <td>153700</td>\n",
              "      <td>24090</td>\n",
              "      <td>129610</td>\n",
              "      <td>538.0</td>\n",
              "    </tr>\n",
              "    <tr>\n",
              "      <th>0</th>\n",
              "      <td>0.44</td>\n",
              "      <td>4.71</td>\n",
              "      <td>7.38</td>\n",
              "      <td>148900</td>\n",
              "      <td>23370</td>\n",
              "      <td>125530</td>\n",
              "      <td>537.0</td>\n",
              "    </tr>\n",
              "    <tr>\n",
              "      <th>0</th>\n",
              "      <td>0.45</td>\n",
              "      <td>4.60</td>\n",
              "      <td>7.19</td>\n",
              "      <td>145600</td>\n",
              "      <td>22760</td>\n",
              "      <td>122840</td>\n",
              "      <td>540.0</td>\n",
              "    </tr>\n",
              "    <tr>\n",
              "      <th>0</th>\n",
              "      <td>0.46</td>\n",
              "      <td>4.50</td>\n",
              "      <td>7.01</td>\n",
              "      <td>142400</td>\n",
              "      <td>22170</td>\n",
              "      <td>120230</td>\n",
              "      <td>542.0</td>\n",
              "    </tr>\n",
              "    <tr>\n",
              "      <th>0</th>\n",
              "      <td>0.47</td>\n",
              "      <td>4.40</td>\n",
              "      <td>6.80</td>\n",
              "      <td>139400</td>\n",
              "      <td>21530</td>\n",
              "      <td>117870</td>\n",
              "      <td>547.0</td>\n",
              "    </tr>\n",
              "    <tr>\n",
              "      <th>0</th>\n",
              "      <td>0.48</td>\n",
              "      <td>4.31</td>\n",
              "      <td>6.62</td>\n",
              "      <td>136300</td>\n",
              "      <td>20940</td>\n",
              "      <td>115360</td>\n",
              "      <td>551.0</td>\n",
              "    </tr>\n",
              "    <tr>\n",
              "      <th>0</th>\n",
              "      <td>0.49</td>\n",
              "      <td>4.24</td>\n",
              "      <td>6.46</td>\n",
              "      <td>134200</td>\n",
              "      <td>20430</td>\n",
              "      <td>113770</td>\n",
              "      <td>557.0</td>\n",
              "    </tr>\n",
              "    <tr>\n",
              "      <th>0</th>\n",
              "      <td>0.50</td>\n",
              "      <td>4.16</td>\n",
              "      <td>6.30</td>\n",
              "      <td>131600</td>\n",
              "      <td>19950</td>\n",
              "      <td>111650</td>\n",
              "      <td>560.0</td>\n",
              "    </tr>\n",
              "    <tr>\n",
              "      <th>0</th>\n",
              "      <td>0.51</td>\n",
              "      <td>4.06</td>\n",
              "      <td>6.16</td>\n",
              "      <td>128500</td>\n",
              "      <td>19510</td>\n",
              "      <td>108990</td>\n",
              "      <td>559.0</td>\n",
              "    </tr>\n",
              "    <tr>\n",
              "      <th>0</th>\n",
              "      <td>0.52</td>\n",
              "      <td>3.95</td>\n",
              "      <td>5.98</td>\n",
              "      <td>125100</td>\n",
              "      <td>18930</td>\n",
              "      <td>106170</td>\n",
              "      <td>561.0</td>\n",
              "    </tr>\n",
              "    <tr>\n",
              "      <th>0</th>\n",
              "      <td>0.53</td>\n",
              "      <td>3.89</td>\n",
              "      <td>5.87</td>\n",
              "      <td>123200</td>\n",
              "      <td>18580</td>\n",
              "      <td>104620</td>\n",
              "      <td>563.0</td>\n",
              "    </tr>\n",
              "    <tr>\n",
              "      <th>0</th>\n",
              "      <td>0.54</td>\n",
              "      <td>3.78</td>\n",
              "      <td>5.70</td>\n",
              "      <td>119700</td>\n",
              "      <td>18030</td>\n",
              "      <td>101670</td>\n",
              "      <td>564.0</td>\n",
              "    </tr>\n",
              "    <tr>\n",
              "      <th>0</th>\n",
              "      <td>0.55</td>\n",
              "      <td>3.70</td>\n",
              "      <td>5.50</td>\n",
              "      <td>117100</td>\n",
              "      <td>17420</td>\n",
              "      <td>99680</td>\n",
              "      <td>572.0</td>\n",
              "    </tr>\n",
              "    <tr>\n",
              "      <th>0</th>\n",
              "      <td>0.56</td>\n",
              "      <td>3.61</td>\n",
              "      <td>5.36</td>\n",
              "      <td>114100</td>\n",
              "      <td>16950</td>\n",
              "      <td>97150</td>\n",
              "      <td>573.0</td>\n",
              "    </tr>\n",
              "    <tr>\n",
              "      <th>0</th>\n",
              "      <td>0.57</td>\n",
              "      <td>3.51</td>\n",
              "      <td>5.21</td>\n",
              "      <td>111200</td>\n",
              "      <td>16490</td>\n",
              "      <td>94710</td>\n",
              "      <td>574.0</td>\n",
              "    </tr>\n",
              "    <tr>\n",
              "      <th>0</th>\n",
              "      <td>0.58</td>\n",
              "      <td>3.42</td>\n",
              "      <td>5.05</td>\n",
              "      <td>108300</td>\n",
              "      <td>15990</td>\n",
              "      <td>92310</td>\n",
              "      <td>577.0</td>\n",
              "    </tr>\n",
              "    <tr>\n",
              "      <th>0</th>\n",
              "      <td>0.59</td>\n",
              "      <td>3.34</td>\n",
              "      <td>4.91</td>\n",
              "      <td>105700</td>\n",
              "      <td>15540</td>\n",
              "      <td>90160</td>\n",
              "      <td>580.0</td>\n",
              "    </tr>\n",
              "    <tr>\n",
              "      <th>0</th>\n",
              "      <td>0.60</td>\n",
              "      <td>3.24</td>\n",
              "      <td>4.76</td>\n",
              "      <td>102600</td>\n",
              "      <td>15050</td>\n",
              "      <td>87550</td>\n",
              "      <td>582.0</td>\n",
              "    </tr>\n",
              "    <tr>\n",
              "      <th>0</th>\n",
              "      <td>0.61</td>\n",
              "      <td>3.18</td>\n",
              "      <td>4.63</td>\n",
              "      <td>100500</td>\n",
              "      <td>14640</td>\n",
              "      <td>85860</td>\n",
              "      <td>586.0</td>\n",
              "    </tr>\n",
              "    <tr>\n",
              "      <th>0</th>\n",
              "      <td>0.62</td>\n",
              "      <td>3.11</td>\n",
              "      <td>4.52</td>\n",
              "      <td>98500</td>\n",
              "      <td>14320</td>\n",
              "      <td>84180</td>\n",
              "      <td>588.0</td>\n",
              "    </tr>\n",
              "    <tr>\n",
              "      <th>0</th>\n",
              "      <td>0.63</td>\n",
              "      <td>3.06</td>\n",
              "      <td>4.40</td>\n",
              "      <td>96700</td>\n",
              "      <td>13930</td>\n",
              "      <td>82770</td>\n",
              "      <td>594.0</td>\n",
              "    </tr>\n",
              "    <tr>\n",
              "      <th>0</th>\n",
              "      <td>0.64</td>\n",
              "      <td>2.98</td>\n",
              "      <td>4.29</td>\n",
              "      <td>94300</td>\n",
              "      <td>13570</td>\n",
              "      <td>80730</td>\n",
              "      <td>595.0</td>\n",
              "    </tr>\n",
              "    <tr>\n",
              "      <th>0</th>\n",
              "      <td>0.65</td>\n",
              "      <td>2.88</td>\n",
              "      <td>4.13</td>\n",
              "      <td>91100</td>\n",
              "      <td>13060</td>\n",
              "      <td>78040</td>\n",
              "      <td>598.0</td>\n",
              "    </tr>\n",
              "    <tr>\n",
              "      <th>0</th>\n",
              "      <td>0.66</td>\n",
              "      <td>2.79</td>\n",
              "      <td>4.01</td>\n",
              "      <td>88200</td>\n",
              "      <td>12690</td>\n",
              "      <td>75510</td>\n",
              "      <td>595.0</td>\n",
              "    </tr>\n",
              "    <tr>\n",
              "      <th>0</th>\n",
              "      <td>0.67</td>\n",
              "      <td>2.72</td>\n",
              "      <td>3.91</td>\n",
              "      <td>86200</td>\n",
              "      <td>12360</td>\n",
              "      <td>73840</td>\n",
              "      <td>597.0</td>\n",
              "    </tr>\n",
              "    <tr>\n",
              "      <th>0</th>\n",
              "      <td>0.68</td>\n",
              "      <td>2.67</td>\n",
              "      <td>3.81</td>\n",
              "      <td>84500</td>\n",
              "      <td>12060</td>\n",
              "      <td>72440</td>\n",
              "      <td>601.0</td>\n",
              "    </tr>\n",
              "    <tr>\n",
              "      <th>0</th>\n",
              "      <td>0.69</td>\n",
              "      <td>2.58</td>\n",
              "      <td>3.67</td>\n",
              "      <td>81600</td>\n",
              "      <td>11630</td>\n",
              "      <td>69970</td>\n",
              "      <td>602.0</td>\n",
              "    </tr>\n",
              "    <tr>\n",
              "      <th>0</th>\n",
              "      <td>0.70</td>\n",
              "      <td>2.50</td>\n",
              "      <td>3.55</td>\n",
              "      <td>79000</td>\n",
              "      <td>11250</td>\n",
              "      <td>67750</td>\n",
              "      <td>602.0</td>\n",
              "    </tr>\n",
              "    <tr>\n",
              "      <th>0</th>\n",
              "      <td>0.71</td>\n",
              "      <td>2.39</td>\n",
              "      <td>3.40</td>\n",
              "      <td>75700</td>\n",
              "      <td>10760</td>\n",
              "      <td>64940</td>\n",
              "      <td>604.0</td>\n",
              "    </tr>\n",
              "    <tr>\n",
              "      <th>0</th>\n",
              "      <td>0.72</td>\n",
              "      <td>2.34</td>\n",
              "      <td>3.31</td>\n",
              "      <td>74000</td>\n",
              "      <td>10490</td>\n",
              "      <td>63510</td>\n",
              "      <td>605.0</td>\n",
              "    </tr>\n",
              "    <tr>\n",
              "      <th>0</th>\n",
              "      <td>0.73</td>\n",
              "      <td>2.31</td>\n",
              "      <td>3.25</td>\n",
              "      <td>73200</td>\n",
              "      <td>10300</td>\n",
              "      <td>62900</td>\n",
              "      <td>611.0</td>\n",
              "    </tr>\n",
              "    <tr>\n",
              "      <th>0</th>\n",
              "      <td>0.74</td>\n",
              "      <td>2.24</td>\n",
              "      <td>3.13</td>\n",
              "      <td>70800</td>\n",
              "      <td>9890</td>\n",
              "      <td>60910</td>\n",
              "      <td>616.0</td>\n",
              "    </tr>\n",
              "  </tbody>\n",
              "</table>\n",
              "</div>\n",
              "      <button class=\"colab-df-convert\" onclick=\"convertToInteractive('df-90949a1f-704a-4cb0-8bd5-7f69860134fb')\"\n",
              "              title=\"Convert this dataframe to an interactive table.\"\n",
              "              style=\"display:none;\">\n",
              "        \n",
              "  <svg xmlns=\"http://www.w3.org/2000/svg\" height=\"24px\"viewBox=\"0 0 24 24\"\n",
              "       width=\"24px\">\n",
              "    <path d=\"M0 0h24v24H0V0z\" fill=\"none\"/>\n",
              "    <path d=\"M18.56 5.44l.94 2.06.94-2.06 2.06-.94-2.06-.94-.94-2.06-.94 2.06-2.06.94zm-11 1L8.5 8.5l.94-2.06 2.06-.94-2.06-.94L8.5 2.5l-.94 2.06-2.06.94zm10 10l.94 2.06.94-2.06 2.06-.94-2.06-.94-.94-2.06-.94 2.06-2.06.94z\"/><path d=\"M17.41 7.96l-1.37-1.37c-.4-.4-.92-.59-1.43-.59-.52 0-1.04.2-1.43.59L10.3 9.45l-7.72 7.72c-.78.78-.78 2.05 0 2.83L4 21.41c.39.39.9.59 1.41.59.51 0 1.02-.2 1.41-.59l7.78-7.78 2.81-2.81c.8-.78.8-2.07 0-2.86zM5.41 20L4 18.59l7.72-7.72 1.47 1.35L5.41 20z\"/>\n",
              "  </svg>\n",
              "      </button>\n",
              "      \n",
              "  <style>\n",
              "    .colab-df-container {\n",
              "      display:flex;\n",
              "      flex-wrap:wrap;\n",
              "      gap: 12px;\n",
              "    }\n",
              "\n",
              "    .colab-df-convert {\n",
              "      background-color: #E8F0FE;\n",
              "      border: none;\n",
              "      border-radius: 50%;\n",
              "      cursor: pointer;\n",
              "      display: none;\n",
              "      fill: #1967D2;\n",
              "      height: 32px;\n",
              "      padding: 0 0 0 0;\n",
              "      width: 32px;\n",
              "    }\n",
              "\n",
              "    .colab-df-convert:hover {\n",
              "      background-color: #E2EBFA;\n",
              "      box-shadow: 0px 1px 2px rgba(60, 64, 67, 0.3), 0px 1px 3px 1px rgba(60, 64, 67, 0.15);\n",
              "      fill: #174EA6;\n",
              "    }\n",
              "\n",
              "    [theme=dark] .colab-df-convert {\n",
              "      background-color: #3B4455;\n",
              "      fill: #D2E3FC;\n",
              "    }\n",
              "\n",
              "    [theme=dark] .colab-df-convert:hover {\n",
              "      background-color: #434B5C;\n",
              "      box-shadow: 0px 1px 3px 1px rgba(0, 0, 0, 0.15);\n",
              "      filter: drop-shadow(0px 1px 2px rgba(0, 0, 0, 0.3));\n",
              "      fill: #FFFFFF;\n",
              "    }\n",
              "  </style>\n",
              "\n",
              "      <script>\n",
              "        const buttonEl =\n",
              "          document.querySelector('#df-90949a1f-704a-4cb0-8bd5-7f69860134fb button.colab-df-convert');\n",
              "        buttonEl.style.display =\n",
              "          google.colab.kernel.accessAllowed ? 'block' : 'none';\n",
              "\n",
              "        async function convertToInteractive(key) {\n",
              "          const element = document.querySelector('#df-90949a1f-704a-4cb0-8bd5-7f69860134fb');\n",
              "          const dataTable =\n",
              "            await google.colab.kernel.invokeFunction('convertToInteractive',\n",
              "                                                     [key], {});\n",
              "          if (!dataTable) return;\n",
              "\n",
              "          const docLinkHtml = 'Like what you see? Visit the ' +\n",
              "            '<a target=\"_blank\" href=https://colab.research.google.com/notebooks/data_table.ipynb>data table notebook</a>'\n",
              "            + ' to learn more about interactive tables.';\n",
              "          element.innerHTML = '';\n",
              "          dataTable['output_type'] = 'display_data';\n",
              "          await google.colab.output.renderOutput(dataTable, element);\n",
              "          const docLink = document.createElement('div');\n",
              "          docLink.innerHTML = docLinkHtml;\n",
              "          element.appendChild(docLink);\n",
              "        }\n",
              "      </script>\n",
              "    </div>\n",
              "  </div>\n",
              "  "
            ]
          },
          "metadata": {},
          "execution_count": 38
        }
      ]
    },
    {
      "cell_type": "markdown",
      "source": [
        "Here “Probability of Subscription” is considered as cut off for segregating if the customer will subscribe or not subscribe. We can observe that as the “Probability of Subscription” increases,“% Target population” decreases, which means considering higher probability as a cut off leads to segregating a smaller number of customers as the target population. But the interesting fact is as the “Probability of Subscription” increases, the “ROI” increases which means though we are targeting a smaller population we are getting good results as compared to targeting a larger population, which can also be seen in the below graph."
      ],
      "metadata": {
        "id": "ePsa6JlTrp5l"
      }
    },
    {
      "cell_type": "code",
      "source": [
        "fig, ax1 = plt.subplots()\n",
        "ax1.plot(cost_function_output[\"Probability of Subscription\"],cost_function_output[\"Revenue\"], color='r')\n",
        "ax1.plot(cost_function_output[\"Probability of Subscription\"],cost_function_output[\"Cost\"],color='y')\n",
        "ax1.plot(cost_function_output[\"Probability of Subscription\"],cost_function_output[\"Profit\"],color='b')\n",
        "ax1.set_xlabel('Probability of Subscription')\n",
        "ax1.set_ylabel('Revenue/Cost/Profit')\n",
        "ax1.legend([\"Revenue\", \"Cost\", \"Profit\"],loc='center',bbox_to_anchor=(0.85, 0.6))\n",
        "\n",
        "ax2 = ax1.twinx()\n",
        "ax2.plot(cost_function_output[\"Probability of Subscription\"],cost_function_output[\"ROI\"],color='g')\n",
        "ax2.set_ylabel('ROI')\n",
        "ax2.legend(['ROI'],loc='center',bbox_to_anchor=(0.85, 0.45))\n",
        "\n",
        "plt.title(\"Revenue, Cost, Profit and ROI across different predicted probabilities\")\n",
        "plt.show()"
      ],
      "metadata": {
        "colab": {
          "base_uri": "https://localhost:8080/",
          "height": 295
        },
        "id": "MS79B5V3rqWd",
        "outputId": "4d2981fe-c3e2-4c58-e5da-68f67ee03c70"
      },
      "execution_count": null,
      "outputs": [
        {
          "output_type": "display_data",
          "data": {
            "text/plain": [
              "<Figure size 432x288 with 2 Axes>"
            ],
            "image/png": "[encoded data removed]"
          },
          "metadata": {
            "needs_background": "light"
          }
        }
      ]
    },
    {
      "cell_type": "markdown",
      "source": [
        "### Exercise 4: Graphical Interpretations\n",
        "**Interpret the graphic. How does the information provided by this visual help you in optimizing the predictive model?**\n",
        "\n",
        "- **----**     "
      ],
      "metadata": {
        "id": "OAJhtbT0r2Cu"
      }
    },
    {
      "cell_type": "markdown",
      "source": [],
      "metadata": {
        "id": "7WLOf7wNteaf"
      }
    },
    {
      "cell_type": "code",
      "source": [
        "fig, ax1 = plt.subplots()\n",
        "ax1.plot(cost_function_output[\"Cost\"],cost_function_output[\"ROI\"],color='b')\n",
        "ax1.set_xlabel('cost')\n",
        "# Make the y-axis label, ticks and tick labels match the line color.\n",
        "ax1.set_ylabel('ROI', color='b')\n",
        "ax1.tick_params('y', colors='b')\n",
        "\n",
        "ax2 = ax1.twinx()\n",
        "ax2.plot(cost_function_output[\"Cost\"],cost_function_output[\"Profit\"], color='r')\n",
        "ax2.set_ylabel('profit', color='r')\n",
        "ax2.tick_params('y', colors='r')\n",
        "\n",
        "fig.tight_layout()\n",
        "plt.title(\"ROI and Profit at different costs\")\n",
        "plt.show()\n",
        "\n",
        "#as cost increases ROI decreases and profit increases\n",
        "#if max profit,\n",
        "#if max ROI\n",
        "#sweet spot"
      ],
      "metadata": {
        "colab": {
          "base_uri": "https://localhost:8080/",
          "height": 313
        },
        "id": "Z9pHfyedr2gq",
        "outputId": "78a5ad44-f29a-4f7b-c993-332987705ea7"
      },
      "execution_count": null,
      "outputs": [
        {
          "output_type": "display_data",
          "data": {
            "text/plain": [
              "<Figure size 432x288 with 2 Axes>"
            ],
            "image/png": "[encoded data removed]"
          },
          "metadata": {
            "needs_background": "light"
          }
        }
      ]
    },
    {
      "cell_type": "markdown",
      "source": [
        "### **Exercise 5: Practical Recommendations**\n",
        "5.a. Describe how the ROI is related to the cost.\n",
        "- **----**   \n",
        "\n",
        "  \n",
        "5.b.  Describe how the profit is related to the cost.\n",
        "- **----**   \n",
        "\n",
        "   \n",
        "5.c. What would be the cost involved in Profit-ROI equilibrium point?  \n",
        "- **----**     \n"
      ],
      "metadata": {
        "id": "Nm0_qMWpsANU"
      }
    }
  ],
  "metadata": {
    "kernelspec": {
      "name": "python3",
      "display_name": "Python 3",
      "language": "python"
    },
    "language_info": {
      "name": "python",
      "version": "3.6.4",
      "mimetype": "text/x-python",
      "codemirror_mode": {
        "name": "ipython",
        "version": 3
      },
      "pygments_lexer": "ipython3",
      "nbconvert_exporter": "python",
      "file_extension": ".py"
    },
    "colab": {
      "provenance": [],
      "include_colab_link": true
    }
  },
  "nbformat": 4,
  "nbformat_minor": 0
}